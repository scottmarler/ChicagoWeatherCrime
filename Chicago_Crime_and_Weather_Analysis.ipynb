{
 "cells": [
  {
   "cell_type": "code",
   "execution_count": 1,
   "metadata": {
    "collapsed": true
   },
   "outputs": [],
   "source": [
    "%matplotlib inline\n",
    "import numpy as np\n",
    "import pandas as pd\n",
    "import matplotlib.pyplot as plt"
   ]
  },
  {
   "cell_type": "code",
   "execution_count": 2,
   "metadata": {
    "collapsed": true
   },
   "outputs": [],
   "source": [
    "weather_df = pd.read_csv(\"Chicago Weather Data 2011-2015.txt\")"
   ]
  },
  {
   "cell_type": "code",
   "execution_count": 3,
   "metadata": {
    "collapsed": true
   },
   "outputs": [],
   "source": [
    "crime_df = pd.read_csv(\"Chicago Crime 2011-2015.csv\")"
   ]
  },
  {
   "cell_type": "code",
   "execution_count": 4,
   "metadata": {
    "collapsed": true
   },
   "outputs": [],
   "source": [
    "weather_df.rename(columns={'CST':'Date'}, inplace=True)\n",
    "weather_df['Date'] = pd.to_datetime(weather_df['Date']).dt.date"
   ]
  },
  {
   "cell_type": "code",
   "execution_count": 5,
   "metadata": {
    "collapsed": true
   },
   "outputs": [],
   "source": [
    "# This one takes a while...\n",
    "crime_df['Date'] = pd.to_datetime(crime_df['Date']).dt.date"
   ]
  },
  {
   "cell_type": "code",
   "execution_count": 6,
   "metadata": {
    "collapsed": true
   },
   "outputs": [],
   "source": [
    "newcols = []\n",
    "for i in weather_df.columns:\n",
    "    if i[0] == ' ':\n",
    "        i = i[1:]\n",
    "    newcols.append(i)\n",
    "weather_df.columns = newcols\n",
    "weather_df['Clear'] = weather_df['CloudCover'].map(lambda x: int(x) < 3)"
   ]
  },
  {
   "cell_type": "code",
   "execution_count": 7,
   "metadata": {
    "collapsed": false
   },
   "outputs": [
    {
     "name": "stdout",
     "output_type": "stream",
     "text": [
      "['Thunderstorm', 'Hail', 'Rain', 'Fog', 'Snow']\n"
     ]
    }
   ],
   "source": [
    "eventlist = list(weather_df['Events'].unique())\n",
    "neweventlist = []\n",
    "for i in eventlist:\n",
    "    i = str(i)\n",
    "    neweventlist.append(i.split('-'))\n",
    "eventlist = []\n",
    "for i in neweventlist:\n",
    "    for j in i:\n",
    "        if j != 'nan':\n",
    "            eventlist.append(j)\n",
    "eventlist = list(set(eventlist))\n",
    "print(eventlist)"
   ]
  },
  {
   "cell_type": "code",
   "execution_count": 8,
   "metadata": {
    "collapsed": true
   },
   "outputs": [],
   "source": [
    "for e in eventlist:\n",
    "    weather_df[e] = weather_df['Events'].map(lambda x: e in str(x))"
   ]
  },
  {
   "cell_type": "code",
   "execution_count": 9,
   "metadata": {
    "collapsed": false
   },
   "outputs": [
    {
     "data": {
      "text/html": [
       "<div>\n",
       "<table border=\"1\" class=\"dataframe\">\n",
       "  <thead>\n",
       "    <tr style=\"text-align: right;\">\n",
       "      <th></th>\n",
       "      <th>Date</th>\n",
       "      <th>Block</th>\n",
       "      <th>Primary Type</th>\n",
       "      <th>Description</th>\n",
       "      <th>Location Description</th>\n",
       "      <th>Arrest</th>\n",
       "      <th>Domestic</th>\n",
       "      <th>District</th>\n",
       "      <th>FBI Code</th>\n",
       "      <th>Max TemperatureF</th>\n",
       "      <th>...</th>\n",
       "      <th>PrecipitationIn</th>\n",
       "      <th>CloudCover</th>\n",
       "      <th>Events</th>\n",
       "      <th>WindDirDegrees</th>\n",
       "      <th>Clear</th>\n",
       "      <th>Thunderstorm</th>\n",
       "      <th>Hail</th>\n",
       "      <th>Rain</th>\n",
       "      <th>Fog</th>\n",
       "      <th>Snow</th>\n",
       "    </tr>\n",
       "  </thead>\n",
       "  <tbody>\n",
       "    <tr>\n",
       "      <th>0</th>\n",
       "      <td>2015-12-31</td>\n",
       "      <td>025XX W 63RD ST</td>\n",
       "      <td>DECEPTIVE PRACTICE</td>\n",
       "      <td>THEFT BY LESSEE,MOTOR VEH</td>\n",
       "      <td>OTHER</td>\n",
       "      <td>False</td>\n",
       "      <td>False</td>\n",
       "      <td>8</td>\n",
       "      <td>11</td>\n",
       "      <td>28</td>\n",
       "      <td>...</td>\n",
       "      <td>T</td>\n",
       "      <td>6</td>\n",
       "      <td>Snow</td>\n",
       "      <td>261</td>\n",
       "      <td>False</td>\n",
       "      <td>False</td>\n",
       "      <td>False</td>\n",
       "      <td>False</td>\n",
       "      <td>False</td>\n",
       "      <td>True</td>\n",
       "    </tr>\n",
       "    <tr>\n",
       "      <th>1</th>\n",
       "      <td>2015-12-31</td>\n",
       "      <td>075XX S EMERALD AVE</td>\n",
       "      <td>CRIMINAL DAMAGE</td>\n",
       "      <td>TO VEHICLE</td>\n",
       "      <td>STREET</td>\n",
       "      <td>False</td>\n",
       "      <td>False</td>\n",
       "      <td>6</td>\n",
       "      <td>14</td>\n",
       "      <td>28</td>\n",
       "      <td>...</td>\n",
       "      <td>T</td>\n",
       "      <td>6</td>\n",
       "      <td>Snow</td>\n",
       "      <td>261</td>\n",
       "      <td>False</td>\n",
       "      <td>False</td>\n",
       "      <td>False</td>\n",
       "      <td>False</td>\n",
       "      <td>False</td>\n",
       "      <td>True</td>\n",
       "    </tr>\n",
       "    <tr>\n",
       "      <th>2</th>\n",
       "      <td>2015-12-31</td>\n",
       "      <td>015XX N KEDZIE AVE</td>\n",
       "      <td>THEFT</td>\n",
       "      <td>FROM BUILDING</td>\n",
       "      <td>RESIDENCE PORCH/HALLWAY</td>\n",
       "      <td>False</td>\n",
       "      <td>False</td>\n",
       "      <td>14</td>\n",
       "      <td>06</td>\n",
       "      <td>28</td>\n",
       "      <td>...</td>\n",
       "      <td>T</td>\n",
       "      <td>6</td>\n",
       "      <td>Snow</td>\n",
       "      <td>261</td>\n",
       "      <td>False</td>\n",
       "      <td>False</td>\n",
       "      <td>False</td>\n",
       "      <td>False</td>\n",
       "      <td>False</td>\n",
       "      <td>True</td>\n",
       "    </tr>\n",
       "    <tr>\n",
       "      <th>3</th>\n",
       "      <td>2015-12-31</td>\n",
       "      <td>079XX S STONY ISLAND AVE</td>\n",
       "      <td>BATTERY</td>\n",
       "      <td>AGGRAVATED: OTHER DANG WEAPON</td>\n",
       "      <td>STREET</td>\n",
       "      <td>False</td>\n",
       "      <td>False</td>\n",
       "      <td>4</td>\n",
       "      <td>04B</td>\n",
       "      <td>28</td>\n",
       "      <td>...</td>\n",
       "      <td>T</td>\n",
       "      <td>6</td>\n",
       "      <td>Snow</td>\n",
       "      <td>261</td>\n",
       "      <td>False</td>\n",
       "      <td>False</td>\n",
       "      <td>False</td>\n",
       "      <td>False</td>\n",
       "      <td>False</td>\n",
       "      <td>True</td>\n",
       "    </tr>\n",
       "    <tr>\n",
       "      <th>4</th>\n",
       "      <td>2015-12-31</td>\n",
       "      <td>037XX N CLARK ST</td>\n",
       "      <td>BATTERY</td>\n",
       "      <td>SIMPLE</td>\n",
       "      <td>SIDEWALK</td>\n",
       "      <td>True</td>\n",
       "      <td>False</td>\n",
       "      <td>19</td>\n",
       "      <td>08B</td>\n",
       "      <td>28</td>\n",
       "      <td>...</td>\n",
       "      <td>T</td>\n",
       "      <td>6</td>\n",
       "      <td>Snow</td>\n",
       "      <td>261</td>\n",
       "      <td>False</td>\n",
       "      <td>False</td>\n",
       "      <td>False</td>\n",
       "      <td>False</td>\n",
       "      <td>False</td>\n",
       "      <td>True</td>\n",
       "    </tr>\n",
       "  </tbody>\n",
       "</table>\n",
       "<p>5 rows × 37 columns</p>\n",
       "</div>"
      ],
      "text/plain": [
       "         Date                     Block        Primary Type  \\\n",
       "0  2015-12-31           025XX W 63RD ST  DECEPTIVE PRACTICE   \n",
       "1  2015-12-31       075XX S EMERALD AVE     CRIMINAL DAMAGE   \n",
       "2  2015-12-31        015XX N KEDZIE AVE               THEFT   \n",
       "3  2015-12-31  079XX S STONY ISLAND AVE             BATTERY   \n",
       "4  2015-12-31          037XX N CLARK ST             BATTERY   \n",
       "\n",
       "                     Description     Location Description Arrest Domestic  \\\n",
       "0      THEFT BY LESSEE,MOTOR VEH                    OTHER  False    False   \n",
       "1                     TO VEHICLE                   STREET  False    False   \n",
       "2                  FROM BUILDING  RESIDENCE PORCH/HALLWAY  False    False   \n",
       "3  AGGRAVATED: OTHER DANG WEAPON                   STREET  False    False   \n",
       "4                         SIMPLE                 SIDEWALK   True    False   \n",
       "\n",
       "   District FBI Code  Max TemperatureF  ...   PrecipitationIn  CloudCover  \\\n",
       "0         8       11                28  ...                 T           6   \n",
       "1         6       14                28  ...                 T           6   \n",
       "2        14       06                28  ...                 T           6   \n",
       "3         4      04B                28  ...                 T           6   \n",
       "4        19      08B                28  ...                 T           6   \n",
       "\n",
       "   Events  WindDirDegrees  Clear  Thunderstorm   Hail   Rain    Fog  Snow  \n",
       "0    Snow             261  False         False  False  False  False  True  \n",
       "1    Snow             261  False         False  False  False  False  True  \n",
       "2    Snow             261  False         False  False  False  False  True  \n",
       "3    Snow             261  False         False  False  False  False  True  \n",
       "4    Snow             261  False         False  False  False  False  True  \n",
       "\n",
       "[5 rows x 37 columns]"
      ]
     },
     "execution_count": 9,
     "metadata": {},
     "output_type": "execute_result"
    }
   ],
   "source": [
    "combined = pd.merge(crime_df, weather_df, how='left', on='Date')\n",
    "combined.head()"
   ]
  },
  {
   "cell_type": "code",
   "execution_count": 13,
   "metadata": {
    "collapsed": false
   },
   "outputs": [
    {
     "name": "stdout",
     "output_type": "stream",
     "text": [
      "1826\n",
      "{'Clear': 293, 'Rain': 608, 'Hail': 3, 'Thunderstorm': 191, 'Fog': 93, 'Snow': 273}\n"
     ]
    }
   ],
   "source": [
    "days = len(weather_df)\n",
    "daycounts = {\n",
    "    'Thunderstorm': len(weather_df[weather_df['Thunderstorm']]),\n",
    "    'Hail': len(weather_df[weather_df['Hail']]),\n",
    "    'Snow': len(weather_df[weather_df['Snow']]),\n",
    "    'Rain': len(weather_df[weather_df['Rain']]),\n",
    "    'Fog': len(weather_df[weather_df['Fog']]),\n",
    "    'Clear': len(weather_df[weather_df['Clear']])\n",
    "    }\n",
    "print(days)\n",
    "print(daycounts)"
   ]
  },
  {
   "cell_type": "code",
   "execution_count": 21,
   "metadata": {
    "collapsed": false
   },
   "outputs": [],
   "source": [
    "freq_no_thunder = combined[combined['Thunderstorm'] == False].groupby('Primary Type')['Date'].count()/(days - daycounts['Thunderstorm'])\n",
    "freq_yes_thunder = combined[combined['Thunderstorm'] == True].groupby('Primary Type')['Date'].count()/daycounts['Thunderstorm']\n",
    "\n",
    "freq_no_hail = combined[combined['Hail'] == False].groupby('Primary Type')['Date'].count()/(days - daycounts['Hail'])\n",
    "freq_yes_hail = combined[combined['Hail'] == True].groupby('Primary Type')['Date'].count()/daycounts['Hail']\n",
    "\n",
    "freq_no_snow = combined[combined['Snow'] == False].groupby('Primary Type')['Date'].count()/(days - daycounts['Snow'])\n",
    "freq_yes_snow = combined[combined['Snow'] == True].groupby('Primary Type')['Date'].count()/daycounts['Snow']\n",
    "\n",
    "freq_no_rain = combined[combined['Rain'] == False].groupby('Primary Type')['Date'].count()/(days - daycounts['Rain'])\n",
    "freq_yes_rain = combined[combined['Rain'] == True].groupby('Primary Type')['Date'].count()/daycounts['Rain']\n",
    "\n",
    "freq_no_fog = combined[combined['Fog'] == False].groupby('Primary Type')['Date'].count()/(days - daycounts['Fog'])\n",
    "freq_yes_fog = combined[combined['Fog'] == True].groupby('Primary Type')['Date'].count()/daycounts['Fog']\n",
    "\n",
    "freq_clear = combined[combined['Clear'] == True].groupby('Primary Type')['Date'].count()/(daycounts['Clear'])\n",
    "freq_not_clear = combined[combined['Clear'] == False].groupby('Primary Type')['Date'].count()/(days - daycounts['Clear'])"
   ]
  },
  {
   "cell_type": "code",
   "execution_count": 22,
   "metadata": {
    "collapsed": false
   },
   "outputs": [],
   "source": [
    "thunder_comparison = pd.concat([freq_no_thunder, freq_yes_thunder],axis=1)\n",
    "thunder_comparison.columns=['no thunder','thunder']\n",
    "thunder_comparison['thunder affect'] = (thunder_comparison['thunder'] / thunder_comparison['no thunder']) - 1\n",
    "\n",
    "hail_comparison = pd.concat([freq_no_hail, freq_yes_hail],axis=1)\n",
    "hail_comparison.columns=['no hail','hail']\n",
    "hail_comparison['hail affect'] = (hail_comparison['hail'] / hail_comparison['no hail']) - 1\n",
    "\n",
    "snow_comparison = pd.concat([freq_no_snow, freq_yes_snow],axis=1)\n",
    "snow_comparison.columns=['no snow','snow']\n",
    "snow_comparison['snow affect'] = (snow_comparison['snow'] / snow_comparison['no snow']) - 1\n",
    "\n",
    "rain_comparison = pd.concat([freq_no_rain, freq_yes_rain],axis=1)\n",
    "rain_comparison.columns=['no rain','rain']\n",
    "rain_comparison['rain affect'] = (rain_comparison['rain'] / rain_comparison['no rain']) - 1\n",
    "\n",
    "fog_comparison = pd.concat([freq_no_fog, freq_yes_fog],axis=1)\n",
    "fog_comparison.columns=['no fog','fog']\n",
    "fog_comparison['fog affect'] = (fog_comparison['fog'] / fog_comparison['no fog']) - 1\n",
    "\n",
    "clear_comparison = pd.concat([freq_clear, freq_not_clear],axis=1)\n",
    "clear_comparison.columns=['clear','not clear']\n",
    "clear_comparison['clear affect'] = (clear_comparison['clear'] / clear_comparison['not clear']) - 1"
   ]
  },
  {
   "cell_type": "code",
   "execution_count": 30,
   "metadata": {
    "collapsed": false
   },
   "outputs": [],
   "source": [
    "comparison_df = pd.concat([thunder_comparison['thunder affect'], hail_comparison['hail affect'], \n",
    "                          snow_comparison['snow affect'], rain_comparison['rain affect'],\n",
    "                          fog_comparison['fog affect'], clear_comparison['clear affect']], axis = 1)"
   ]
  },
  {
   "cell_type": "code",
   "execution_count": 33,
   "metadata": {
    "collapsed": false
   },
   "outputs": [],
   "source": [
    "primary_types = list(combined['Primary Type'].unique())\n",
    "type_counts = {}\n",
    "for i in primary_types:\n",
    "    type_counts[i] = len(combined[combined['Primary Type'] == i])"
   ]
  },
  {
   "cell_type": "code",
   "execution_count": 72,
   "metadata": {
    "collapsed": false
   },
   "outputs": [],
   "source": [
    "comparison_df['sample size'] = comparison_df.index.map(lambda x: type_counts[x])\n",
    "comparison_df.sort_values(by='sample size', ascending=[1], inplace=True)"
   ]
  },
  {
   "cell_type": "code",
   "execution_count": 73,
   "metadata": {
    "collapsed": false
   },
   "outputs": [],
   "source": [
    "comparison_df.index.names = ['Primary Type']"
   ]
  },
  {
   "cell_type": "code",
   "execution_count": 74,
   "metadata": {
    "collapsed": true
   },
   "outputs": [],
   "source": [
    "comparison_df_truncated = comparison_df[comparison_df['sample size'] > 1000]"
   ]
  },
  {
   "cell_type": "code",
   "execution_count": 75,
   "metadata": {
    "collapsed": false
   },
   "outputs": [
    {
     "data": {
      "text/plain": [
       "<matplotlib.axes._subplots.AxesSubplot at 0x229359cb198>"
      ]
     },
     "execution_count": 75,
     "metadata": {},
     "output_type": "execute_result"
    },
    {
     "data": {
      "image/png": "[encoded data removed]",
      "text/plain": [
       "<matplotlib.figure.Figure at 0x2292fc27da0>"
      ]
     },
     "metadata": {},
     "output_type": "display_data"
    }
   ],
   "source": [
    "columns = [column for column in comparison_df_truncated.columns if column != 'sample size']\n",
    "comparison_df_truncated[columns].plot(kind='barh', figsize=(12,20), \n",
    "                                      title='Weather effects in descending order of sample size (minimum of 1000)')"
   ]
  },
  {
   "cell_type": "markdown",
   "metadata": {},
   "source": []
  }
 ],
 "metadata": {
  "kernelspec": {
   "display_name": "Python 3",
   "language": "python",
   "name": "python3"
  },
  "language_info": {
   "codemirror_mode": {
    "name": "ipython",
    "version": 3
   },
   "file_extension": ".py",
   "mimetype": "text/x-python",
   "name": "python",
   "nbconvert_exporter": "python",
   "pygments_lexer": "ipython3",
   "version": "3.5.1"
  }
 },
 "nbformat": 4,
 "nbformat_minor": 0
}
