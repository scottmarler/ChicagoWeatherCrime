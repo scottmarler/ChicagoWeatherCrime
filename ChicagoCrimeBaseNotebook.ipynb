{
 "cells": [
  {
   "cell_type": "code",
   "execution_count": 1,
   "metadata": {
    "collapsed": true
   },
   "outputs": [],
   "source": [
    "%matplotlib inline\n",
    "import numpy as np\n",
    "import pandas as pd\n",
    "import matplotlib.pyplot as plt\n",
    "import datetime"
   ]
  },
  {
   "cell_type": "markdown",
   "metadata": {},
   "source": [
    "## Read in data files and parse dates\n",
    "\n",
    "## Google Drive storage location for date-limited data files:\n",
    "https://drive.google.com/open?id=0B_PnWx1pRhmzNWxYNDVjWjBNcnc\n",
    "\n",
    "crime_df source data:\n",
    "https://data.cityofchicago.org/Public-Safety/Crimes-2001-to-present/ijzp-q8t2\n",
    "\n",
    "weather_df source data:\n",
    "www.wunderground.com/history\n",
    "\n",
    "[astronomics] ---not yet a part of this base file; please update with how it's being used\n",
    "http://aa.usno.navy.mil/data/index.php"
   ]
  },
  {
   "cell_type": "code",
   "execution_count": 2,
   "metadata": {
    "collapsed": true
   },
   "outputs": [],
   "source": [
    "# Make sure data files are in the same folder\n",
    "# Add any additional read-in statements here\n",
    "# This takes a while because of the datetime conversion in crime_df (over a million lines)\n",
    "\n",
    "weather_df = pd.read_csv(\"Chicago Weather Data 2011-2015.txt\")\n",
    "weather_df.rename(columns={'CST':'Date'}, inplace=True)\n",
    "weather_df['Date'] = pd.to_datetime(weather_df['Date']).dt.date\n",
    "\n",
    "crime_df = pd.read_csv(\"Chicago Crime 2011-2015.csv\")\n",
    "crime_df['Date'] = pd.to_datetime(crime_df['Date']).dt.date"
   ]
  },
  {
   "cell_type": "markdown",
   "metadata": {},
   "source": [
    "## weather_df modifications\n",
    "\n",
    "Since weather_df is already organized as a single day for every line, it is useful to add columns that will make\n",
    "further analysis easier."
   ]
  },
  {
   "cell_type": "code",
   "execution_count": 3,
   "metadata": {
    "collapsed": true
   },
   "outputs": [],
   "source": [
    "# Some columns in weather_df get imported with a leading space\n",
    "# This removes those spaces\n",
    "\n",
    "newcols = []\n",
    "for i in weather_df.columns:\n",
    "    if i[0] == ' ':\n",
    "        i = i[1:]\n",
    "    newcols.append(i)\n",
    "\n",
    "weather_df.columns = newcols"
   ]
  },
  {
   "cell_type": "code",
   "execution_count": 4,
   "metadata": {
    "collapsed": true
   },
   "outputs": [],
   "source": [
    "# Mapping function so that temps can be categorized into buckets\n",
    "def temp_map(temp):\n",
    "    if temp < 0:\n",
    "        return 'below 0'\n",
    "    else:\n",
    "        return str((temp//10)*10) + 's'\n",
    "    \n",
    "# Apply map to new column\n",
    "weather_df['temp bucket'] = weather_df['Max TemperatureF'].map(temp_map)"
   ]
  },
  {
   "cell_type": "code",
   "execution_count": 5,
   "metadata": {
    "collapsed": true
   },
   "outputs": [],
   "source": [
    "# weatherunderground uses a scale of 0 to 9 to represent cloud cover\n",
    "# I'm saying that a \"clear\" day is one with a cloud cover of less than 3\n",
    "weather_df['Clear'] = weather_df['CloudCover'].map(lambda x: int(x) < 3)"
   ]
  },
  {
   "cell_type": "code",
   "execution_count": 6,
   "metadata": {
    "collapsed": true
   },
   "outputs": [],
   "source": [
    "# Mapping function so that temps can be categorized into buckets\n",
    "def temp_map(temp):\n",
    "    if temp < 0:\n",
    "        return 'below 0'\n",
    "    else:\n",
    "        return str((temp//10)*10) + 's'\n",
    "    \n",
    "weather_df['temp bucket'] = weather_df['Max TemperatureF'].map(temp_map)"
   ]
  },
  {
   "cell_type": "code",
   "execution_count": 7,
   "metadata": {
    "collapsed": true
   },
   "outputs": [],
   "source": [
    "# Create a list of each unique weather event type\n",
    "eventlist = list(weather_df['Events'].unique())\n",
    "neweventlist = []\n",
    "for i in eventlist:\n",
    "    i = str(i)\n",
    "    neweventlist.append(i.split('-'))\n",
    "eventlist = []\n",
    "for i in neweventlist:\n",
    "    for j in i:\n",
    "        if j != 'nan':\n",
    "            eventlist.append(j)\n",
    "eventlist = list(set(eventlist))\n",
    "\n",
    "# Create a new column in the weather dataframe for each item in the event list and populate with True or False for each day\n",
    "for e in eventlist:\n",
    "    weather_df[e] = weather_df['Events'].map(lambda x: e in str(x))"
   ]
  },
  {
   "cell_type": "code",
   "execution_count": 8,
   "metadata": {
    "collapsed": true
   },
   "outputs": [],
   "source": [
    "# Crimes per day seems like a pretty good thing to throw in there\n",
    "dailycounts = crime_df.groupby('Date').size()\n",
    "weather_df['crimes'] = weather_df.Date.map(lambda x: dailycounts[x])"
   ]
  },
  {
   "cell_type": "code",
   "execution_count": 9,
   "metadata": {
    "collapsed": true
   },
   "outputs": [],
   "source": [
    "# A 'local' average is useful for picking out days that deviate from their immediately adjacent neighbors\n",
    "# The local deviation is how each day compares to its neighbors\n",
    "def get_local_avg(date,span=7,df=weather_df):\n",
    "    return df[(df['Date'] < date + datetime.timedelta(days=span/2)) & \n",
    "              (df['Date'] > date - datetime.timedelta(days=span/2)) &\n",
    "              (df['Date'] != date)]['crimes'].mean()\n",
    "\n",
    "weather_df['localavg'] = weather_df.Date.map(get_local_avg)\n",
    "weather_df['localdeviation'] = weather_df['crimes']/weather_df['localavg'] - 1"
   ]
  },
  {
   "cell_type": "code",
   "execution_count": 10,
   "metadata": {
    "collapsed": true
   },
   "outputs": [],
   "source": [
    "# It's useful to be able to reference the day of the month readily\n",
    "weather_df['day'] = weather_df.Date.map(lambda x: x.day)"
   ]
  },
  {
   "cell_type": "code",
   "execution_count": 11,
   "metadata": {
    "collapsed": true
   },
   "outputs": [],
   "source": [
    "# It's also useful to know which day of the week it is\n",
    "weather_df['dow'] = weather_df.Date.map(lambda x: x.weekday())"
   ]
  },
  {
   "cell_type": "markdown",
   "metadata": {},
   "source": [
    "## Merge DataFrames"
   ]
  },
  {
   "cell_type": "code",
   "execution_count": 12,
   "metadata": {
    "collapsed": true
   },
   "outputs": [],
   "source": [
    "# Left-join crime and weather dataframes (crime on the left)\n",
    "combined = pd.merge(crime_df, weather_df, how='left', on='Date')"
   ]
  },
  {
   "cell_type": "markdown",
   "metadata": {},
   "source": [
    "# 1) Is crime more likely in warm or cold weather?"
   ]
  },
  {
   "cell_type": "code",
   "execution_count": null,
   "metadata": {
    "collapsed": true
   },
   "outputs": [],
   "source": [
    "# Scott"
   ]
  },
  {
   "cell_type": "markdown",
   "metadata": {},
   "source": [
    "# 2) Is crime more likely during pleasant or storm weather?"
   ]
  },
  {
   "cell_type": "code",
   "execution_count": null,
   "metadata": {
    "collapsed": true
   },
   "outputs": [],
   "source": [
    "# Scott"
   ]
  },
  {
   "cell_type": "markdown",
   "metadata": {},
   "source": [
    "# 3) Are certain phases of the moon related to higher crime rates?"
   ]
  },
  {
   "cell_type": "code",
   "execution_count": null,
   "metadata": {
    "collapsed": true
   },
   "outputs": [],
   "source": [
    "# Lisa"
   ]
  },
  {
   "cell_type": "markdown",
   "metadata": {},
   "source": [
    "# 4) Which criminal activities become more or less likely during specific weather events?"
   ]
  },
  {
   "cell_type": "code",
   "execution_count": null,
   "metadata": {
    "collapsed": true
   },
   "outputs": [],
   "source": [
    "# TBD"
   ]
  },
  {
   "cell_type": "markdown",
   "metadata": {},
   "source": [
    "# 5) Is crime influenced more by weather or by season?"
   ]
  },
  {
   "cell_type": "code",
   "execution_count": null,
   "metadata": {
    "collapsed": true
   },
   "outputs": [],
   "source": [
    "# TBD"
   ]
  },
  {
   "cell_type": "markdown",
   "metadata": {},
   "source": [
    "# 6) Is crime less likely to occur on holidays?"
   ]
  },
  {
   "cell_type": "code",
   "execution_count": null,
   "metadata": {
    "collapsed": true
   },
   "outputs": [],
   "source": [
    "# Jay"
   ]
  },
  {
   "cell_type": "markdown",
   "metadata": {},
   "source": [
    "# 7) How has the crime rate changed over time? Is the change the same across all crime types?"
   ]
  },
  {
   "cell_type": "code",
   "execution_count": null,
   "metadata": {
    "collapsed": true
   },
   "outputs": [],
   "source": [
    "# Jay"
   ]
  },
  {
   "cell_type": "markdown",
   "metadata": {},
   "source": [
    "# 8) Does the day of the month effect crime rate?"
   ]
  },
  {
   "cell_type": "code",
   "execution_count": null,
   "metadata": {
    "collapsed": true
   },
   "outputs": [],
   "source": [
    "# Scott"
   ]
  },
  {
   "cell_type": "markdown",
   "metadata": {},
   "source": [
    "# Sandbox\n",
    "## Any other useful/relevant/interesting findings?"
   ]
  },
  {
   "cell_type": "code",
   "execution_count": null,
   "metadata": {
    "collapsed": true
   },
   "outputs": [],
   "source": [
    "# Everybody!"
   ]
  }
 ],
 "metadata": {
  "kernelspec": {
   "display_name": "Python 3",
   "language": "python",
   "name": "python3"
  },
  "language_info": {
   "codemirror_mode": {
    "name": "ipython",
    "version": 3
   },
   "file_extension": ".py",
   "mimetype": "text/x-python",
   "name": "python",
   "nbconvert_exporter": "python",
   "pygments_lexer": "ipython3",
   "version": "3.5.1"
  }
 },
 "nbformat": 4,
 "nbformat_minor": 0
}
