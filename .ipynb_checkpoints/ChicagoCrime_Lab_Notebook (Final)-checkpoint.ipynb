{
 "cells": [
  {
   "cell_type": "markdown",
   "metadata": {},
   "source": [
    "# MIDS W18 Final Project Lab Notebook\n",
    "### Contributors: Lisa Minas, Jay Cordes, and Scott Marler\n",
    "\n",
    "This notebook was constructed separately in sections by Lisa, Jay, and Scott. The sections correspond with the\n",
    "questions we asked in our project proposal. We started from a base notebook that contained the data imports\n",
    "and initial dataframe manipulation. We worked separately, then combined our respective sections.\n",
    "\n",
    "The full combined notebook was run successfully using Pandas version 17.1. The only known difference between versions 17 and 18 that would affect this notebook's ability to run is that the rolling calculations used a few times have a different syntax.\n",
    "\n",
    "Running all cells from a reset kernel took approximately 3 minutes on Scott's PC."
   ]
  },
  {
   "cell_type": "code",
   "execution_count": null,
   "metadata": {
    "collapsed": true
   },
   "outputs": [],
   "source": [
    "%matplotlib inline\n",
    "import numpy as np\n",
    "import pandas as pd\n",
    "import matplotlib.pyplot as plt\n",
    "import datetime\n",
    "pd.options.display.float_format = '{:.4f}'.format"
   ]
  },
  {
   "cell_type": "markdown",
   "metadata": {},
   "source": [
    "## Read in data files and parse dates\n",
    "\n",
    "## Google Drive storage location for date-limited data files:\n",
    "https://drive.google.com/open?id=0B_PnWx1pRhmzNWxYNDVjWjBNcnc\n",
    "\n",
    "crime_df source data:\n",
    "https://data.cityofchicago.org/Public-Safety/Crimes-2001-to-present/ijzp-q8t2\n",
    "\n",
    "weather_df source data:\n",
    "www.wunderground.com/history\n",
    "\n",
    "astronomics\n",
    "http://aa.usno.navy.mil/data/index.php"
   ]
  },
  {
   "cell_type": "code",
   "execution_count": null,
   "metadata": {
    "collapsed": false,
    "scrolled": true
   },
   "outputs": [],
   "source": [
    "# Make sure data files are in the same folder\n",
    "# Add any additional read-in statements here\n",
    "# This takes a while because of the datetime conversion in crime_df (over a million lines)\n",
    "\n",
    "weather_df = pd.read_csv(\"Chicago Weather Data 2011-2015.txt\")\n",
    "weather_df.rename(columns={'CST':'Date'}, inplace=True)\n",
    "weather_df['Date'] = pd.to_datetime(weather_df['Date']).dt.date\n",
    "\n",
    "crime_df = pd.read_csv(\"Chicago Crime 2011-2015.csv\")\n",
    "crime_df['Date'] = pd.to_datetime(crime_df['Date']).dt.date"
   ]
  },
  {
   "cell_type": "markdown",
   "metadata": {},
   "source": [
    "## weather_df modifications\n",
    "\n",
    "Since weather_df is already organized as a single day for every line, it is useful to add columns that will make\n",
    "further analysis easier."
   ]
  },
  {
   "cell_type": "code",
   "execution_count": null,
   "metadata": {
    "collapsed": true
   },
   "outputs": [],
   "source": [
    "# Some columns in weather_df get imported with a leading space\n",
    "# This removes those spaces\n",
    "\n",
    "newcols = []\n",
    "for i in weather_df.columns:\n",
    "    if i[0] == ' ':\n",
    "        i = i[1:]\n",
    "    newcols.append(i)\n",
    "\n",
    "weather_df.columns = newcols"
   ]
  },
  {
   "cell_type": "code",
   "execution_count": null,
   "metadata": {
    "collapsed": false
   },
   "outputs": [],
   "source": [
    "# Mapping function so that temps can be categorized into buckets\n",
    "def temp_map(temp):\n",
    "    if temp < 0:\n",
    "        return 'below 0'\n",
    "    else:\n",
    "        return str((temp//10)*10) + 's'\n",
    "    \n",
    "# Apply map to new column\n",
    "weather_df['temp bucket'] = weather_df['Max TemperatureF'].map(temp_map)"
   ]
  },
  {
   "cell_type": "code",
   "execution_count": null,
   "metadata": {
    "collapsed": true
   },
   "outputs": [],
   "source": [
    "# weatherunderground uses a scale of 0 to 9 to represent cloud cover\n",
    "# I'm saying that a \"clear\" day is one with a cloud cover of less than 3\n",
    "weather_df['Clear'] = weather_df['CloudCover'].map(lambda x: int(x) < 3)"
   ]
  },
  {
   "cell_type": "code",
   "execution_count": null,
   "metadata": {
    "collapsed": true
   },
   "outputs": [],
   "source": [
    "# Create a list of each unique weather event type\n",
    "eventlist = list(weather_df['Events'].unique())\n",
    "neweventlist = []\n",
    "for i in eventlist:\n",
    "    i = str(i)\n",
    "    neweventlist.append(i.split('-'))\n",
    "eventlist = []\n",
    "for i in neweventlist:\n",
    "    for j in i:\n",
    "        if j != 'nan':\n",
    "            eventlist.append(j)\n",
    "eventlist = list(set(eventlist))\n",
    "\n",
    "# Create a new column in the weather dataframe for each item in the event list and populate with True or False for each day\n",
    "for e in eventlist:\n",
    "    weather_df[e] = weather_df['Events'].map(lambda x: e in str(x))"
   ]
  },
  {
   "cell_type": "code",
   "execution_count": null,
   "metadata": {
    "collapsed": true
   },
   "outputs": [],
   "source": [
    "# Crimes per day seems like a pretty good thing to throw in there\n",
    "dailycounts = crime_df.groupby('Date').size()\n",
    "weather_df['crimes'] = weather_df.Date.map(lambda x: dailycounts[x])"
   ]
  },
  {
   "cell_type": "code",
   "execution_count": null,
   "metadata": {
    "collapsed": true
   },
   "outputs": [],
   "source": [
    "# A 'local' average is useful for picking out days that deviate from their immediately adjacent neighbors\n",
    "# The local deviation is how each day compares to its neighbors\n",
    "def get_local_avg(date,span=7,df=weather_df):\n",
    "    return df[(df['Date'] < date + datetime.timedelta(days=span/2)) & \n",
    "              (df['Date'] > date - datetime.timedelta(days=span/2)) &\n",
    "              (df['Date'] != date)]['crimes'].mean()\n",
    "\n",
    "weather_df['localavg'] = weather_df.Date.map(get_local_avg)\n",
    "weather_df['localdeviation'] = weather_df['crimes']/weather_df['localavg'] - 1"
   ]
  },
  {
   "cell_type": "code",
   "execution_count": null,
   "metadata": {
    "collapsed": true
   },
   "outputs": [],
   "source": [
    "# It's useful to be able to reference the day of the month readily\n",
    "weather_df['day'] = weather_df.Date.map(lambda x: x.day)"
   ]
  },
  {
   "cell_type": "code",
   "execution_count": null,
   "metadata": {
    "collapsed": true
   },
   "outputs": [],
   "source": [
    "# It's also useful to know which day of the week it is\n",
    "weather_df['dow'] = weather_df.Date.map(lambda x: x.weekday())"
   ]
  },
  {
   "cell_type": "markdown",
   "metadata": {},
   "source": [
    "### Lunar Data"
   ]
  },
  {
   "cell_type": "markdown",
   "metadata": {},
   "source": [
    "Original data is in three seperate small datasets: one for the percentage visible of the moon (moonlight), one for the seasonal events such as solstices and equinoxes (seasons), and one for the day of the phase of the moon (moonphase). Each dataset is in a slightly different format so reshape to have Date fields the same. Then merge together to get one dataset on lunar activity.\n",
    "\n",
    "For future analysis, create a Seasons column so each day is part of a particular season."
   ]
  },
  {
   "cell_type": "code",
   "execution_count": null,
   "metadata": {
    "collapsed": false
   },
   "outputs": [],
   "source": [
    "moonlight = pd.read_csv(\"moonlight.txt\", delimiter = \"\\t\")\n",
    "moonlight = pd.melt(moonlight, id_vars = [\"Year\", \"Day\"], var_name = \"Month\", value_name = \"LightPercent\")\n",
    "moonlight.dropna(how = \"any\", inplace = True)\n",
    "moonlight[\"Date\"] = pd.to_datetime(moonlight[\"Year\"].map(str) + moonlight[\"Month\"] + moonlight[\"Day\"].map(str), format=\"%Y%b%d\").dt.date\n",
    "moonlight = moonlight[[\"LightPercent\", \"Date\"]]"
   ]
  },
  {
   "cell_type": "code",
   "execution_count": null,
   "metadata": {
    "collapsed": true
   },
   "outputs": [],
   "source": [
    "seasons = pd.read_csv(\"seasons.txt\", delimiter = \"\\t\")\n",
    "seasons[\"Date\"] = pd.to_datetime(seasons[\"Year\"]*10000 + seasons[\"Month\"]*100 + seasons[\"Day\"], format=\"%Y%m%d\").dt.date\n",
    "seasons = seasons[[\"Event\", \"Date\"]]"
   ]
  },
  {
   "cell_type": "code",
   "execution_count": null,
   "metadata": {
    "collapsed": true
   },
   "outputs": [],
   "source": [
    "moonphase = pd.read_csv(\"moonphase.txt\", delimiter = \"\\t\", names = [\"MoonPhase\", \"Date\"], skiprows = 1)\n",
    "moonphase['Date'] = pd.to_datetime(moonphase['Date']).dt.date"
   ]
  },
  {
   "cell_type": "code",
   "execution_count": null,
   "metadata": {
    "collapsed": true
   },
   "outputs": [],
   "source": [
    "astro = pd.merge(moonlight, moonphase, on = \"Date\", how = \"left\")\n",
    "astro = pd.merge(astro, seasons, on = \"Date\", how = \"left\")\n",
    "astro.sort_values(\"Date\")\n",
    "\n",
    "astro[\"Season\"] = astro[\"Event\"][astro[\"Event\"].isin(['spring', 'summer', 'fall', 'winter'])]\n",
    "# fill in NaNs with current season\n",
    "astro[\"Season\"].fillna(method=\"ffill\", inplace = True)\n",
    "# leaves rows prior to first spring NaN. These should be winter.\n",
    "astro[\"Season\"].fillna(value=\"winter\", inplace = True)\n",
    "\n",
    "astro[\"MoonPhase\"].fillna(\"Other\", inplace = True)"
   ]
  },
  {
   "cell_type": "markdown",
   "metadata": {},
   "source": [
    "## Merge DataFrames"
   ]
  },
  {
   "cell_type": "code",
   "execution_count": null,
   "metadata": {
    "collapsed": true
   },
   "outputs": [],
   "source": [
    "# Left-join crime and weather dataframes (crime on the left)\n",
    "# We are able to merge on the date because the date field in both dataframes was groomed the same way above\n",
    "combined = pd.merge(crime_df, weather_df, how='left', on='Date')"
   ]
  },
  {
   "cell_type": "code",
   "execution_count": null,
   "metadata": {
    "collapsed": false
   },
   "outputs": [],
   "source": [
    "# Left-join combined and astro dataframes (combined on the left)\n",
    "combined = pd.merge(combined, astro, how='left', on='Date')\n",
    "combined[\"MaxTempBucket\"] = combined[\"Max TemperatureF\"].map(lambda x: round(x, -1))"
   ]
  },
  {
   "cell_type": "markdown",
   "metadata": {},
   "source": [
    "# 1) Is crime more likely in warm or cold weather?\n",
    "\n",
    "(Scott)"
   ]
  },
  {
   "cell_type": "code",
   "execution_count": null,
   "metadata": {
    "collapsed": false
   },
   "outputs": [],
   "source": [
    "# Let's build a dataframe to start looking at each temperature bucket\n",
    "\n",
    "temp_bucket_df_index = ['below 0', '0s', '10s', '20s', '30s', '40s', '50s', '60s', '70s', '80s', '90s', '100s']\n",
    "temp_bucket_df_columns = ['Day Count', 'Crime Rate']\n",
    "temp_bucket_df = pd.DataFrame(index=temp_bucket_df_index, columns=temp_bucket_df_columns)\n",
    "\n",
    "temp_bucket_df.head(1)"
   ]
  },
  {
   "cell_type": "code",
   "execution_count": null,
   "metadata": {
    "collapsed": true
   },
   "outputs": [],
   "source": [
    "# A few mapping functions will allow us to populate the counts and rates for each bucket\n",
    "\n",
    "def daycount(bucket,event='',col='temp bucket',df=weather_df):\n",
    "    '''Pass in a temperature bucket to receive back the number of days with a matching high temp.\n",
    "    By using the optional event input, you can specify a second criteria'''\n",
    "    \n",
    "    if event == '':\n",
    "        return len(df[df[col] == bucket])\n",
    "    else:\n",
    "        return len(df[(df[col] == bucket) & (df[event])])\n",
    "    \n",
    "def crimerate(bucket,event='',days_func=daycount,col='temp bucket',df=combined):\n",
    "    '''Pass in a temperature bucket to receive back the crime rate for that given temp range.\n",
    "    As with daycount, an event may be specified to further define the criteria.\n",
    "    This function relies on the daycount function to find the denomiator for the rate calculation'''\n",
    "    \n",
    "    if days_func(bucket,event) == 0:\n",
    "        return np.nan\n",
    "    if event == '':\n",
    "        return len(df[df[col] == bucket]) / days_func(bucket)\n",
    "    else:\n",
    "        return len(df[(df[col] == bucket) & (df[event])]) / days_func(bucket,event)"
   ]
  },
  {
   "cell_type": "code",
   "execution_count": null,
   "metadata": {
    "collapsed": true
   },
   "outputs": [],
   "source": [
    "# Apply the mapping functions above to start getting actual data into the new dataframe\n",
    "temp_bucket_df.index.name = 'Temp Bucket'\n",
    "temp_bucket_df['Day Count'] = temp_bucket_df.index.map(daycount)\n",
    "temp_bucket_df['Crime Rate'] = temp_bucket_df.index.map(crimerate)"
   ]
  },
  {
   "cell_type": "code",
   "execution_count": null,
   "metadata": {
    "collapsed": false
   },
   "outputs": [],
   "source": [
    "temp_bucket_df[['Day Count','Crime Rate']].head()"
   ]
  },
  {
   "cell_type": "code",
   "execution_count": null,
   "metadata": {
    "collapsed": false
   },
   "outputs": [],
   "source": [
    "plt.style.use('ggplot')\n",
    "temp_bucket_df[['Day Count', 'Crime Rate']].plot(kind='bar', title='Crime Rate by Daily High Temperature', \n",
    "                    figsize=(10,5)).legend(['Days in range','Crimes per day in range'], loc='upper left')"
   ]
  },
  {
   "cell_type": "markdown",
   "metadata": {},
   "source": [
    "Well, that's about as positive of a relationship as one might hope to see! It is quite clear that as temperature goes up, the crime rate follows."
   ]
  },
  {
   "cell_type": "code",
   "execution_count": null,
   "metadata": {
    "collapsed": false
   },
   "outputs": [],
   "source": [
    "# Mean temp multiplied by 8 only so that the graphs appear close to eachother when plotted together\n",
    "pd.rolling_mean(weather_df['Max TemperatureF'] * 8, 15).plot()\n",
    "pd.rolling_mean(weather_df['crimes'], 15).plot()\n",
    "plt.ylim((150, 1300))\n",
    "plt.legend(['Max Temp Rolling Avg', 'Total Crime Rolling Avg'])\n",
    "plt.title('Rolling 15-day Mean Comparison of \\nDaily Max Temp (*8) and Total Crime Rate')"
   ]
  },
  {
   "cell_type": "markdown",
   "metadata": {},
   "source": [
    "With this graph, we can see quite clearly that crime rate follows temperature over time. Interestingly, the overall rate is decreasing on the scale of years, but rates are clearly influenced by peaks and valleys in the temperature. In fact, looking closely at the (blue) crime graph, a lot of the local spikes line up perfectly with spikes in temperature."
   ]
  },
  {
   "cell_type": "markdown",
   "metadata": {},
   "source": [
    "# 2) Is crime more likely during pleasant or stormy weather?\n",
    "\n",
    "(Scott)"
   ]
  },
  {
   "cell_type": "markdown",
   "metadata": {},
   "source": [
    "### In order to talk about the effects of certain weather conditions, we must define \"effect\"!\n",
    "\n",
    "The effect of a weather event, as used in our analysis, is given by:\n",
    "\n",
    "$$(\\frac{e}{ne} - 1) * 100        $$\n",
    "\n",
    "Where e is the crime rate for days on which that event occurred and ne is the is the crime rate for days on which that event did not occur."
   ]
  },
  {
   "cell_type": "code",
   "execution_count": null,
   "metadata": {
    "collapsed": false
   },
   "outputs": [],
   "source": [
    "# Gathering basic info - total number of days in dataset and the number of days on which each event type occurred\n",
    "\n",
    "days = len(weather_df)\n",
    "\n",
    "# Can filter by simply calling the column, since each of the event columns contains a True or a False\n",
    "daycounts = {\n",
    "    'Thunderstorm': len(weather_df[weather_df['Thunderstorm']]),\n",
    "    'Hail': len(weather_df[weather_df['Hail']]),\n",
    "    'Snow': len(weather_df[weather_df['Snow']]),\n",
    "    'Rain': len(weather_df[weather_df['Rain']]),\n",
    "    'Fog': len(weather_df[weather_df['Fog']]),\n",
    "    'Clear': len(weather_df[weather_df['Clear']])\n",
    "    }\n",
    "print(days)\n",
    "print(daycounts)"
   ]
  },
  {
   "cell_type": "code",
   "execution_count": null,
   "metadata": {
    "collapsed": true
   },
   "outputs": [],
   "source": [
    "# Plucking out the frequency of each primary crime type (rate) for the presence or absense of each event type\n",
    "# This is just putting together the \"e\" and \"ne\" components of the effect formula above\n",
    "\n",
    "freq_no_thunder = combined[combined['Thunderstorm'] == False].groupby('Primary Type')['Date'].count()/(days - daycounts['Thunderstorm'])\n",
    "freq_yes_thunder = combined[combined['Thunderstorm'] == True].groupby('Primary Type')['Date'].count()/daycounts['Thunderstorm']\n",
    "\n",
    "freq_no_hail = combined[combined['Hail'] == False].groupby('Primary Type')['Date'].count()/(days - daycounts['Hail'])\n",
    "freq_yes_hail = combined[combined['Hail'] == True].groupby('Primary Type')['Date'].count()/daycounts['Hail']\n",
    "\n",
    "freq_no_snow = combined[combined['Snow'] == False].groupby('Primary Type')['Date'].count()/(days - daycounts['Snow'])\n",
    "freq_yes_snow = combined[combined['Snow'] == True].groupby('Primary Type')['Date'].count()/daycounts['Snow']\n",
    "\n",
    "freq_no_rain = combined[combined['Rain'] == False].groupby('Primary Type')['Date'].count()/(days - daycounts['Rain'])\n",
    "freq_yes_rain = combined[combined['Rain'] == True].groupby('Primary Type')['Date'].count()/daycounts['Rain']\n",
    "\n",
    "freq_no_fog = combined[combined['Fog'] == False].groupby('Primary Type')['Date'].count()/(days - daycounts['Fog'])\n",
    "freq_yes_fog = combined[combined['Fog'] == True].groupby('Primary Type')['Date'].count()/daycounts['Fog']\n",
    "\n",
    "freq_not_clear = combined[combined['Clear'] == False].groupby('Primary Type')['Date'].count()/(days - daycounts['Clear'])\n",
    "freq_clear = combined[combined['Clear'] == True].groupby('Primary Type')['Date'].count()/(daycounts['Clear'])"
   ]
  },
  {
   "cell_type": "code",
   "execution_count": null,
   "metadata": {
    "collapsed": false
   },
   "outputs": [],
   "source": [
    "# Building mini dataframes for each event and applying the calculation\n",
    "\n",
    "thunder_comparison = pd.concat([freq_no_thunder, freq_yes_thunder],axis=1)\n",
    "thunder_comparison.columns=['no thunder','thunder']\n",
    "thunder_comparison['thunder effect'] = ((thunder_comparison['thunder'] / thunder_comparison['no thunder']) - 1) * 100\n",
    "\n",
    "hail_comparison = pd.concat([freq_no_hail, freq_yes_hail],axis=1)\n",
    "hail_comparison.columns=['no hail','hail']\n",
    "hail_comparison['hail effect'] = ((hail_comparison['hail'] / hail_comparison['no hail']) - 1) * 100\n",
    "\n",
    "snow_comparison = pd.concat([freq_no_snow, freq_yes_snow],axis=1)\n",
    "snow_comparison.columns=['no snow','snow']\n",
    "snow_comparison['snow effect'] = ((snow_comparison['snow'] / snow_comparison['no snow']) - 1) * 100\n",
    "\n",
    "rain_comparison = pd.concat([freq_no_rain, freq_yes_rain],axis=1)\n",
    "rain_comparison.columns=['no rain','rain']\n",
    "rain_comparison['rain effect'] = ((rain_comparison['rain'] / rain_comparison['no rain']) - 1) * 100\n",
    "\n",
    "fog_comparison = pd.concat([freq_no_fog, freq_yes_fog],axis=1)\n",
    "fog_comparison.columns=['no fog','fog']\n",
    "fog_comparison['fog effect'] = ((fog_comparison['fog'] / fog_comparison['no fog']) - 1) * 100\n",
    "\n",
    "clear_comparison = pd.concat([freq_not_clear, freq_clear],axis=1)\n",
    "clear_comparison.columns=['not clear','clear']\n",
    "clear_comparison['clear effect'] = ((clear_comparison['clear'] / clear_comparison['not clear']) - 1) * 100"
   ]
  },
  {
   "cell_type": "code",
   "execution_count": null,
   "metadata": {
    "collapsed": true
   },
   "outputs": [],
   "source": [
    "# Putting it all together\n",
    "# hail_comparison['hail effect'] removed because there are only 3 days with hail - too insignificant\n",
    "comparison_df = pd.concat([thunder_comparison['thunder effect'], clear_comparison['clear effect'], \n",
    "                          rain_comparison['rain effect'], fog_comparison['fog effect'],\n",
    "                          snow_comparison['snow effect']], axis = 1)"
   ]
  },
  {
   "cell_type": "code",
   "execution_count": null,
   "metadata": {
    "collapsed": false
   },
   "outputs": [],
   "source": [
    "# Building a dictionary to capture the 'sample size' for each primary type to help restrict findings\n",
    "# to those that are significant\n",
    "primary_types = list(combined['Primary Type'].unique())\n",
    "type_counts = {}\n",
    "for i in primary_types:\n",
    "    type_counts[i] = len(combined[combined['Primary Type'] == i])\n",
    "    \n",
    "# Add the sample size values from above into its own column so it can be sorted in descending order\n",
    "# (Most frequent crime on top)\n",
    "comparison_df['sample size'] = comparison_df.index.map(lambda x: type_counts[x])\n",
    "comparison_df.sort_values(by='sample size', ascending=[1], inplace=True)\n",
    "\n",
    "# Just naming the index column so that it auto-populates the axis label in the plot\n",
    "comparison_df.index.names = ['Primary Type']"
   ]
  },
  {
   "cell_type": "code",
   "execution_count": null,
   "metadata": {
    "collapsed": true
   },
   "outputs": [],
   "source": [
    "# New instance of the comparison DF ommitting anything with a 'small' sample size\n",
    "comparison_df_truncated = comparison_df[comparison_df['sample size'] > 1000]"
   ]
  },
  {
   "cell_type": "code",
   "execution_count": null,
   "metadata": {
    "collapsed": false
   },
   "outputs": [],
   "source": [
    "comparison_df_truncated.index"
   ]
  },
  {
   "cell_type": "code",
   "execution_count": null,
   "metadata": {
    "collapsed": false,
    "scrolled": true
   },
   "outputs": [],
   "source": [
    "## Only give top 6\n",
    "columns = [column for column in comparison_df_truncated.columns if column != 'sample size']\n",
    "comparison_df_truncated[columns].tail(6).plot(kind='barh', figsize=(10,3), \n",
    "                                      title='Weather Event Effects')\n",
    "plt.xlabel('% increase or decrease in crime rate compared to the absense of that event')\n",
    "plt.ylabel('Top 6 Primary Types by sample size')\n",
    "plt.legend(loc='upper left')"
   ]
  },
  {
   "cell_type": "markdown",
   "metadata": {},
   "source": [
    "### Interesting! It appears as though Thunderstorms and Clear Weather are both associated with an increase in crime rate, while Fog and Snow seem to have the opposite association"
   ]
  },
  {
   "cell_type": "code",
   "execution_count": null,
   "metadata": {
    "collapsed": false
   },
   "outputs": [],
   "source": [
    "comparison_df.describe()"
   ]
  },
  {
   "cell_type": "markdown",
   "metadata": {},
   "source": [
    "It now appears as though both temperature and weather events have definite associations with crime rates. However, weather events themselves tend to be associated with certain temperatures. So we need to tease out the event effects from <b>within</b> each temperature range.\n",
    "\n",
    "Thunderstorms, in particular, seem counterintuitive. How can it be that crime is more likely when there's a thunderstorm?"
   ]
  },
  {
   "cell_type": "code",
   "execution_count": null,
   "metadata": {
    "collapsed": false
   },
   "outputs": [],
   "source": [
    "# What sort of temperature is common during a thunderstorm?\n",
    "print('Average high temp on thunderstorm days','{:.2f}'.format(combined[combined['Thunderstorm'] == True]['Max TemperatureF'].mean()))\n",
    "print('Average high temp on non-thunderstorm days','{:.2f}'.format(combined[combined['Thunderstorm'] == False]['Max TemperatureF'].mean()))"
   ]
  },
  {
   "cell_type": "code",
   "execution_count": null,
   "metadata": {
    "collapsed": true
   },
   "outputs": [],
   "source": [
    "# Let's build on to the temp_bucket_df we built previously\n",
    "\n",
    "temp_bucket_df['Clear Days'] = temp_bucket_df.index.map(lambda x: daycount(x,'Clear'))\n",
    "temp_bucket_df['Clear Rate'] = temp_bucket_df.index.map(lambda x: crimerate(x,'Clear'))\n",
    "\n",
    "for event in eventlist:\n",
    "    temp_bucket_df[str(event) + ' Days'] = temp_bucket_df.index.map(lambda x: daycount(x,event))\n",
    "    temp_bucket_df[str(event) + ' Rate'] = temp_bucket_df.index.map(lambda x: crimerate(x,event))"
   ]
  },
  {
   "cell_type": "code",
   "execution_count": null,
   "metadata": {
    "collapsed": false
   },
   "outputs": [],
   "source": [
    "temp_bucket_df['Clear Effect'] = ((temp_bucket_df['Clear Rate'] / temp_bucket_df['Crime Rate'])-1)*100\n",
    "for event in eventlist:\n",
    "    temp_bucket_df[str(event) + ' Effect'] = ((temp_bucket_df[str(event) + ' Rate'] / temp_bucket_df['Crime Rate'])-1)*100\n",
    "# temp_bucket_df['Temp Effect'] = ((temp_bucket_df['Crime Rate'] / overall)-1)*100\n",
    "# temp_bucket_df"
   ]
  },
  {
   "cell_type": "code",
   "execution_count": null,
   "metadata": {
    "collapsed": false
   },
   "outputs": [],
   "source": [
    "plt.style.use('ggplot')\n",
    "temp_bucket_df[(['Clear Effect', 'Thunderstorm Effect', \n",
    "                 'Rain Effect', 'Fog Effect', \n",
    "                 'Snow Effect'])].plot(kind = 'barh', figsize = (8,8),\n",
    "                                       title = 'Weather event effect within temp ranges')\n",
    "plt.xlabel('% increase or decrease in crime rate compared to the overall average')"
   ]
  },
  {
   "cell_type": "markdown",
   "metadata": {},
   "source": [
    "### A much different story indeed\n",
    "\n",
    "We can now see that for every weather event <i>within</i> each temperature range, there is almost always\n",
    "a negative association between weather events and overall crime rate.\n",
    "\n",
    "Thunderstorms looked like they caused a spike in crime, but it's only because thunderstorms happen\n",
    "in warmer than average temperatures.\n",
    "\n",
    "\"Clear\" days, which were defined as having cloud cover ratings less than 3, are consistently associated with \n",
    "higher crime rates, even within a given temperature range."
   ]
  },
  {
   "cell_type": "markdown",
   "metadata": {},
   "source": [
    "# 3) Are certain phases of the moon related to higher crime rates?\n",
    "\n",
    "(Lisa)"
   ]
  },
  {
   "cell_type": "markdown",
   "metadata": {},
   "source": [
    "(This topic is explored futher in section 5 below)"
   ]
  },
  {
   "cell_type": "markdown",
   "metadata": {},
   "source": [
    "There's a myth that lunar cycles alter human nature. Specifically, the full moon supposedly relates to increased mental alteration in specific individuals. Since it takes a specific, abnormal individual to want to commit a crime, we thought it would be interesting to investigate if lunar cycles contributed to crime rates."
   ]
  },
  {
   "cell_type": "code",
   "execution_count": null,
   "metadata": {
    "collapsed": false
   },
   "outputs": [],
   "source": [
    "# First look at descriptions by moonphase\n",
    "combined.groupby(\"MoonPhase\")[\"Arrest\"].agg([np.sum, np.mean, np.std, len])"
   ]
  },
  {
   "cell_type": "markdown",
   "metadata": {},
   "source": [
    "These descriptive statistics are looking at arrests (True/False). The difference in means or standard deviations between any one moon phase and another or lack thereof is less than 0.01. This likely indicates lack of relation between moonphase and criminal activity. Just to be certain, we should check by major crime type to ensure lunatics aren't drawn to a specific crime. "
   ]
  },
  {
   "cell_type": "code",
   "execution_count": null,
   "metadata": {
    "collapsed": false
   },
   "outputs": [],
   "source": [
    "PrimeCrimeType = [\"THEFT\", \"BATTERY\", \"CRIMINAL DAMAGE\", \"NARCOTICS\", \"BURGLARY\", \"ASSULT\"]\n",
    "mooncrime = combined[[col for col in combined[\"Primary Type\"] if col in PrimeCrimeType]]\n",
    "mooncrime.groupby(\"MoonPhase\", \"Primary Type\")[\"Arrest\"].agg([np.sum, np.mean, np.std, len])"
   ]
  },
  {
   "cell_type": "markdown",
   "metadata": {},
   "source": [
    "While it would be amusing to find a relation here, the nearly idential results reject the possibility. Oh well."
   ]
  },
  {
   "cell_type": "markdown",
   "metadata": {},
   "source": [
    "# 4) Which criminal activities become more or less likely during specific weather events?\n",
    "\n",
    "(Scott)"
   ]
  },
  {
   "cell_type": "markdown",
   "metadata": {
    "collapsed": true
   },
   "source": [
    "Earlier, we looked at how weather events affect crime rates, but that was without adjusting for temperature. We've learned that temperature really is the driving factor for overall crime rate. But are there particular crime types that become *more* likely for a particular weather event within a certain temperature range?"
   ]
  },
  {
   "cell_type": "code",
   "execution_count": null,
   "metadata": {
    "collapsed": false
   },
   "outputs": [],
   "source": [
    "combined['Date'] = pd.to_datetime(combined['Date']).dt.date"
   ]
  },
  {
   "cell_type": "code",
   "execution_count": null,
   "metadata": {
    "collapsed": false
   },
   "outputs": [],
   "source": [
    "len(combined.groupby(['Date','Primary Type']).get_group((combined.Date[0],'THEFT')))"
   ]
  },
  {
   "cell_type": "code",
   "execution_count": null,
   "metadata": {
    "collapsed": false
   },
   "outputs": [],
   "source": [
    "# This groupby will be used repeatedly in the daily_type_map formula below. Storing it in memory\n",
    "# so that the groupby operation doesn't have to be run over and over again (several thousand times)\n",
    "grouped = combined.groupby(['Date', 'Primary Type']).Block.count()\n"
   ]
  },
  {
   "cell_type": "code",
   "execution_count": null,
   "metadata": {
    "collapsed": false
   },
   "outputs": [],
   "source": [
    "sorted_types = comparison_df_truncated.index[::-1]\n",
    "sorted_types"
   ]
  },
  {
   "cell_type": "code",
   "execution_count": null,
   "metadata": {
    "collapsed": false
   },
   "outputs": [],
   "source": [
    "def daily_type_map(d,t,s=grouped):\n",
    "    try:\n",
    "        return s[d][t]\n",
    "    except KeyError:\n",
    "        return 0\n",
    "        "
   ]
  },
  {
   "cell_type": "code",
   "execution_count": null,
   "metadata": {
    "collapsed": false
   },
   "outputs": [],
   "source": [
    "for i in sorted_types:\n",
    "    weather_df[i] = weather_df.Date.map(lambda x: daily_type_map(x,i))"
   ]
  },
  {
   "cell_type": "code",
   "execution_count": null,
   "metadata": {
    "collapsed": false
   },
   "outputs": [],
   "source": [
    "weather_df.head()"
   ]
  },
  {
   "cell_type": "code",
   "execution_count": null,
   "metadata": {
    "collapsed": false
   },
   "outputs": [],
   "source": [
    "templist = []\n",
    "for t in temp_bucket_df_index:\n",
    "    for e in eventlist:\n",
    "        for s in sorted_types:\n",
    "            factor = (weather_df[(weather_df[e] == True) & (weather_df['temp bucket'] == t)][s].sum()/\\\n",
    "                      weather_df[(weather_df[e] == True) & (weather_df['temp bucket'] == t)][s].count())/\\\n",
    "            (weather_df[(weather_df[e] == False) & (weather_df['temp bucket'] == t)][s].sum()/\\\n",
    "             weather_df[(weather_df[e] == False) & (weather_df['temp bucket'] == t)][s].count())\n",
    "            if weather_df[(weather_df[e] == True) & (weather_df['temp bucket'] == t)][s].count() > 25 and factor > 1.05:\n",
    "                templist.append(s)\n",
    "tempseries = pd.Series(templist)\n"
   ]
  },
  {
   "cell_type": "code",
   "execution_count": null,
   "metadata": {
    "collapsed": false
   },
   "outputs": [],
   "source": [
    "tempseries.value_counts().plot(kind='barh', title='Count of temp and weather event combinations \\nthat saw a 5% or greater increase in rate')"
   ]
  },
  {
   "cell_type": "markdown",
   "metadata": {},
   "source": [
    "It does indeed appear as though Kidnapping, Prostitution, Criminal Sexual Assault, Sex Offense, Robbery, and Homocide become more likely as the weather becomes less pleasant (corrected for temperature). Interesting."
   ]
  },
  {
   "cell_type": "markdown",
   "metadata": {},
   "source": [
    "# 5) Is crime influenced more by weather or by season?\n",
    "\n",
    "(Lisa)"
   ]
  },
  {
   "cell_type": "markdown",
   "metadata": {},
   "source": [
    "To analyze weather, we want to see how the seasons stack up against each other."
   ]
  },
  {
   "cell_type": "code",
   "execution_count": null,
   "metadata": {
    "collapsed": true
   },
   "outputs": [],
   "source": [
    "# help on violin labeling from http://matplotlib.org/examples/statistics/violinplot_demo.html\n",
    "def violin_plot(bucket, ylabel = None, title = None):\n",
    "    labels = combined[bucket].unique()\n",
    "    data = combined.groupby(bucket)[\"Date\"].value_counts()\n",
    "    ax = plt.figure().add_subplot(111)\n",
    "\n",
    "    plt.violinplot([data[col] for col in labels], range(len(labels)), showmeans= True)\n",
    "    ax.set_xticks(range(len(labels)))\n",
    "    ax.set_xticklabels(labels, rotation=90)\n",
    "    if ylabel:\n",
    "        ax.set_ylabel(ylabel)\n",
    "    if title:\n",
    "        ax.set_title(title)"
   ]
  },
  {
   "cell_type": "code",
   "execution_count": null,
   "metadata": {
    "collapsed": false,
    "scrolled": true
   },
   "outputs": [],
   "source": [
    "# season violin plot\n",
    "violin_plot(\"Season\", \"Daily Crime Count\", \"Seasonal Crime Rate\")"
   ]
  },
  {
   "cell_type": "markdown",
   "metadata": {},
   "source": [
    "The higher mean crime count in summer is unsurprising given prior analysis - summer has warmer weather than winter and warmer weather has a higher crime rate. I see a generally similar distribution of crime - a nice enough bell curve evenly distributed around the mean. Spring has a slight bimodal trend above and below the average but this may be due to natural variance. \n",
    "\n",
    "What strikes me the most is the long tail of winter and the shorter tail of summer. All seasons have a short low-count tail. Yet winter has a few outstanding long tail days. This will be useful to look into later.\n",
    "\n",
    "*Update after further analysis below:* My guess as to winter's long tail is New Years Eve.\n",
    "\n",
    "This graph is so visually powerful that I'm curious if it would show anything for the moon phase analysis in question 3."
   ]
  },
  {
   "cell_type": "code",
   "execution_count": null,
   "metadata": {
    "collapsed": false
   },
   "outputs": [],
   "source": [
    "# moonphase violin plot\n",
    "violin_plot(\"MoonPhase\", \"Daily Crime Count\", \"Moon Phase Crime Rate\")"
   ]
  },
  {
   "cell_type": "markdown",
   "metadata": {},
   "source": [
    "No such luck. There goes my hopes of proving the word lunacy has some factual foundation."
   ]
  },
  {
   "cell_type": "code",
   "execution_count": null,
   "metadata": {
    "collapsed": false
   },
   "outputs": [],
   "source": [
    "# check work of function used previously.\n",
    "seasons = [\"fall\", \"winter\", \"spring\", \"summer\"]\n",
    "data = combined.groupby(\"Season\")[\"Date\"].value_counts()\n",
    "ax = plt.figure().add_subplot(111)\n",
    "\n",
    "plt.violinplot([data[s] for s in seasons], range(len(seasons)), showmeans= True)\n",
    "ax.set_xticks(range(len(seasons)))\n",
    "ax.set_xticklabels(seasons)\n",
    "ax.set_title(\"Seasonal Crime Rate\")"
   ]
  },
  {
   "cell_type": "code",
   "execution_count": null,
   "metadata": {
    "collapsed": false
   },
   "outputs": [],
   "source": [
    "# help on violin labeling from http://matplotlib.org/examples/statistics/violinplot_demo.html\n",
    "# check work of function used previously.\n",
    "phases = combined.MoonPhase.unique()\n",
    "data = combined.groupby(\"MoonPhase\")[\"Date\"].value_counts()\n",
    "ax = plt.figure().add_subplot(111)\n",
    "\n",
    "plt.violinplot([data[s] for s in phases], range(len(phases)), showmeans= True)\n",
    "ax.set_xticks(range(len(phases)))\n",
    "ax.set_xticklabels(phases, rotation=90)\n",
    "ax.set_ylabel(\"Daily Crime Count\")\n",
    "ax.set_title(\"Moon Phase Crime Rate\")"
   ]
  },
  {
   "cell_type": "markdown",
   "metadata": {},
   "source": [
    "The moon illumination has barely noticeable impacts on crime counts"
   ]
  },
  {
   "cell_type": "markdown",
   "metadata": {},
   "source": [
    "We see a distinct hump each year when looking at crime over time. This cyclical effect isn't from season so maybe it's a function of the month itself. Lets look into how crime occurs over the days of the month."
   ]
  },
  {
   "cell_type": "code",
   "execution_count": null,
   "metadata": {
    "collapsed": true
   },
   "outputs": [],
   "source": [
    "# legend help from http://stackoverflow.com/questions/23556153/how-to-put-legend-outside-the-plot-with-pandas\n",
    "def season_ave_crime(bucket, grp_bucket, bucket_label = None, grp_bucket_label = None):\n",
    "    crimes = combined.groupby(grp_bucket)[bucket].value_counts()\n",
    "    days = combined.groupby([grp_bucket, bucket])[\"Date\"].nunique()\n",
    "    season_crime_df = crimes / days\n",
    "\n",
    "    for s in [\"fall\", \"winter\", \"spring\", \"summer\"]:\n",
    "        plot_fig= season_crime_df[s].plot(legend=True, label=s)\n",
    "\n",
    "    plot_fig.set_xlabel(bucket_label)\n",
    "    plot_fig.set_ylabel(\"Average Crime Rate\")\n",
    "    plot_fig.set_title(grp_bucket_label)\n",
    "    \n",
    "    plt.legend(loc='center left', bbox_to_anchor=(1.0, 0.5))\n",
    "    \n",
    "def ungrp_ave_crime(bucket, bucket_label = None, title=None):\n",
    "    crimes = combined[bucket].value_counts()\n",
    "    days = combined.groupby(bucket)[\"Date\"].nunique()\n",
    "    season_crime_df = crimes / days\n",
    "    plot_fig = season_crime_df.plot()\n",
    "\n",
    "    plot_fig.set_xlabel(bucket_label)\n",
    "    plot_fig.set_ylabel(\"Average Crime Rate\")\n",
    "    plot_fig.set_title(title)"
   ]
  },
  {
   "cell_type": "code",
   "execution_count": null,
   "metadata": {
    "collapsed": false
   },
   "outputs": [],
   "source": [
    "season_ave_crime(\"day\", \"Season\", \"Day Of Month\", \"Seasonal Average Crime Rate\")"
   ]
  },
  {
   "cell_type": "markdown",
   "metadata": {},
   "source": [
    "Every season has the same basic trend nearly to the day. The first is a stagering jump followed by a shallow hump peaking around the 15th. We can see the average across season are different as demonstrated in the violin plots but the overall trend is the same."
   ]
  },
  {
   "cell_type": "markdown",
   "metadata": {},
   "source": [
    "I want to pull out season from temperature if possible. Is a cold summer day similar to a warm winter day? I would expect different curves is so."
   ]
  },
  {
   "cell_type": "code",
   "execution_count": null,
   "metadata": {
    "collapsed": false
   },
   "outputs": [],
   "source": [
    "season_ave_crime(\"MaxTempBucket\", \"Season\", \"Maximum Temperature Bucket\", \"Seasonal Average Crime Rate\")"
   ]
  },
  {
   "cell_type": "markdown",
   "metadata": {},
   "source": [
    "Each season has an increase in crime as the temperature increases. Therefore season is not the likely the causation factor but, instead, temperature."
   ]
  },
  {
   "cell_type": "markdown",
   "metadata": {},
   "source": [
    "While examining temperature, I realized I forgot to look into partial moon phases. Just as temperature fluxuates within a season, the percentage of a moon's light waxes and wanes. While I didn't see a trend in specific moon events, perhaps there's a cliff or breaking point I can observe"
   ]
  },
  {
   "cell_type": "code",
   "execution_count": null,
   "metadata": {
    "collapsed": false
   },
   "outputs": [],
   "source": [
    "ungrp_ave_crime(\"LightPercent\", \"Moon Illumination Percent\", title=\"Crime by Moonlight\")"
   ]
  },
  {
   "cell_type": "markdown",
   "metadata": {},
   "source": [
    "Of course not. This is very erratic but looks relatively flat in total. "
   ]
  },
  {
   "cell_type": "code",
   "execution_count": null,
   "metadata": {
    "collapsed": false
   },
   "outputs": [],
   "source": [
    "crimes = combined[\"MoonPhase\"].value_counts()\n",
    "days = combined.groupby(\"MoonPhase\")[\"Date\"].nunique()\n",
    "crime_df = crimes / days\n",
    "plot_fig = crime_df.plot(kind=\"bar\", title=\"\")"
   ]
  },
  {
   "cell_type": "code",
   "execution_count": null,
   "metadata": {
    "collapsed": false
   },
   "outputs": [],
   "source": [
    "combined.groupby(\"MoonPhase\")[\"Date\"].value_counts().describe()"
   ]
  },
  {
   "cell_type": "markdown",
   "metadata": {},
   "source": [
    "# 6) Is crime less likely to occur on holidays?\n",
    "\n",
    "(Jay)"
   ]
  },
  {
   "cell_type": "markdown",
   "metadata": {},
   "source": [
    "So, the thought here is similar to the \"fewer crimes during bad weather\" hypothesis. People are usually hanging out with their family on Xmas and Thanksgiving, for example, and are less likely to be breaking into houses. Initially, I just plotted the holidays against the average crime per day and it did show a decrease. However, Scott brought up a great question: how do we know that these days don't just have fewer crimes since they're generally in the colder months (temperature being a confounding variable). To address that question, I compared the holiday arrest average against the average number of arrests in the surrounding days see if the decrease was still there. It was!"
   ]
  },
  {
   "cell_type": "code",
   "execution_count": null,
   "metadata": {
    "collapsed": false
   },
   "outputs": [],
   "source": [
    "# Total Crimes\n",
    "total_crimes = len(combined)\n",
    "print(total_crimes)"
   ]
  },
  {
   "cell_type": "code",
   "execution_count": null,
   "metadata": {
    "collapsed": false
   },
   "outputs": [],
   "source": [
    "# of days in the dataset\n",
    "numdays = len(weather_df.Date)\n",
    "print(numdays)"
   ]
  },
  {
   "cell_type": "code",
   "execution_count": null,
   "metadata": {
    "collapsed": false
   },
   "outputs": [],
   "source": [
    "# Avg number of crimes per day in Chicago\n",
    "print(total_crimes / numdays)"
   ]
  },
  {
   "cell_type": "code",
   "execution_count": null,
   "metadata": {
    "collapsed": true
   },
   "outputs": [],
   "source": [
    "# Created a dataframe of crime grouped by date\n",
    "crime_by_day = pd.DataFrame(combined.groupby(\"Date\").size())\n",
    "\n",
    "# Got the date out of the index, because I find the inconsistencies\n",
    "# between dealing with the index and a column to be annoying.\n",
    "crime_by_day = crime_by_day.reset_index()\n",
    "crime_by_day.columns = ['Date', 'Count']\n",
    "\n",
    "# Made lists of the dates for each of the holidays\n",
    "xmas_dates = [datetime.date(2011, 12, 25), datetime.date(2012, 12, 25),\n",
    "              datetime.date(2013, 12, 25), datetime.date(2014, 12, 25),\n",
    "              datetime.date(2015, 12, 25)]\n",
    "\n",
    "tg_dates = [datetime.date(2011, 11, 24), datetime.date(2012, 11, 22),\n",
    "            datetime.date(2013, 11, 28), datetime.date(2014, 11, 27),\n",
    "            datetime.date(2015, 11, 26)]\n",
    "\n",
    "nye_dates = [datetime.date(2011, 12, 31), datetime.date(2012, 12, 31),\n",
    "             datetime.date(2013, 12, 31), datetime.date(2014, 12, 31),\n",
    "             datetime.date(2015, 12, 31)]\n",
    "\n",
    "e_dates = [datetime.date(2011, 4, 24), datetime.date(2012, 4, 8),\n",
    "           datetime.date(2013, 3, 31), datetime.date(2014, 4, 20),\n",
    "           datetime.date(2015, 4, 5)]\n",
    "\n",
    "# Calculated the average crime per day for each of the holidays\n",
    "avgxmas = (crime_by_day[(crime_by_day[\"Date\"] == xmas_dates[0]) |\n",
    "                        (crime_by_day[\"Date\"] == xmas_dates[1]) |\n",
    "                        (crime_by_day[\"Date\"] == xmas_dates[2]) |\n",
    "                        (crime_by_day[\"Date\"] == xmas_dates[3]) |\n",
    "                        (crime_by_day[\"Date\"] == xmas_dates[4])].mean().item())\n",
    "\n",
    "avgtg = (crime_by_day[(crime_by_day[\"Date\"] == tg_dates[0]) |\n",
    "                      (crime_by_day[\"Date\"] == tg_dates[1]) |\n",
    "                      (crime_by_day[\"Date\"] == tg_dates[2]) |\n",
    "                      (crime_by_day[\"Date\"] == tg_dates[3]) |\n",
    "                      (crime_by_day[\"Date\"] == tg_dates[4])].mean().item())\n",
    "\n",
    "avgny = (crime_by_day[(crime_by_day[\"Date\"] == nye_dates[0]) |\n",
    "                      (crime_by_day[\"Date\"] == nye_dates[1]) |\n",
    "                      (crime_by_day[\"Date\"] == nye_dates[2]) |\n",
    "                      (crime_by_day[\"Date\"] == nye_dates[3]) |\n",
    "                      (crime_by_day[\"Date\"] == nye_dates[4])].mean().item())\n",
    "\n",
    "avge = (crime_by_day[(crime_by_day[\"Date\"] == e_dates[0]) |\n",
    "                     (crime_by_day[\"Date\"] == e_dates[1]) |\n",
    "                     (crime_by_day[\"Date\"] == e_dates[2]) |\n",
    "                     (crime_by_day[\"Date\"] == e_dates[3]) |\n",
    "                     (crime_by_day[\"Date\"] == e_dates[4])].mean().item())\n"
   ]
  },
  {
   "cell_type": "code",
   "execution_count": null,
   "metadata": {
    "collapsed": false
   },
   "outputs": [],
   "source": [
    "# The initial plot of average holiday crime vs. avg daily crime\n",
    "# dicts rearrange things, so I used a list the next time around\n",
    "plt.style.use('ggplot')\n",
    "holidays_dict = {}\n",
    "holidays_dict[\"Avg Day\"] = total_crimes / numdays\n",
    "holidays_dict[\"Xmas\"] = avgxmas\n",
    "holidays_dict[\"Thanksgiving\"] = avgtg\n",
    "holidays_dict[\"NY's Eve\"] = avgny\n",
    "holidays_dict[\"Easter\"] = avge\n",
    "\n",
    "holidays_df = pd.DataFrame.from_dict(holidays_dict, orient=\"index\")\n",
    "holidays_df.index.names = ['Avg Crime Events per Day']\n",
    "holidays_df.plot(kind=\"bar\", title='Initial Plot of Holiday Safety',\n",
    "                 legend=False)"
   ]
  },
  {
   "cell_type": "code",
   "execution_count": null,
   "metadata": {
    "collapsed": true
   },
   "outputs": [],
   "source": [
    "def grabcrime(year, month, day, df):\n",
    "    ''' This takes in a dataframe and a date and returns the\n",
    "        number of arrests that day.\n",
    "    '''\n",
    "\n",
    "    return df[df[\"Date\"] == datetime.date(\n",
    "            year, month, day)][\"Count\"].item()\n",
    "\n",
    "# Track total crime around XMas\n",
    "a_xmas_totals = 0\n",
    "\n",
    "for y in [2011, 2012, 2013, 2014, 2015]:\n",
    "    for d in [22, 23, 24, 26, 27, 28]:\n",
    "        a_xmas_totals += grabcrime(y, 12, d, crime_by_day)\n",
    "\n",
    "# I thought about trying to avoid this repetitive code\n",
    "# but it's easy to read and understand.\n",
    "\n",
    "a_tg_totals = 0\n",
    "\n",
    "a_tg_totals += grabcrime(2011, 11, 21, crime_by_day)\n",
    "a_tg_totals += grabcrime(2011, 11, 22, crime_by_day)\n",
    "a_tg_totals += grabcrime(2011, 11, 23, crime_by_day)\n",
    "a_tg_totals += grabcrime(2011, 11, 25, crime_by_day)\n",
    "a_tg_totals += grabcrime(2011, 11, 26, crime_by_day)\n",
    "a_tg_totals += grabcrime(2011, 11, 27, crime_by_day)\n",
    "\n",
    "a_tg_totals += grabcrime(2012, 11, 19, crime_by_day)\n",
    "a_tg_totals += grabcrime(2012, 11, 20, crime_by_day)\n",
    "a_tg_totals += grabcrime(2012, 11, 21, crime_by_day)\n",
    "a_tg_totals += grabcrime(2012, 11, 23, crime_by_day)\n",
    "a_tg_totals += grabcrime(2012, 11, 24, crime_by_day)\n",
    "a_tg_totals += grabcrime(2012, 11, 25, crime_by_day)\n",
    "\n",
    "a_tg_totals += grabcrime(2013, 11, 25, crime_by_day)\n",
    "a_tg_totals += grabcrime(2013, 11, 26, crime_by_day)\n",
    "a_tg_totals += grabcrime(2013, 11, 27, crime_by_day)\n",
    "a_tg_totals += grabcrime(2013, 11, 29, crime_by_day)\n",
    "a_tg_totals += grabcrime(2013, 11, 30, crime_by_day)\n",
    "a_tg_totals += grabcrime(2013, 12, 1, crime_by_day)\n",
    "\n",
    "a_tg_totals += grabcrime(2014, 11, 24, crime_by_day)\n",
    "a_tg_totals += grabcrime(2014, 11, 25, crime_by_day)\n",
    "a_tg_totals += grabcrime(2014, 11, 26, crime_by_day)\n",
    "a_tg_totals += grabcrime(2014, 11, 28, crime_by_day)\n",
    "a_tg_totals += grabcrime(2014, 11, 29, crime_by_day)\n",
    "a_tg_totals += grabcrime(2014, 11, 30, crime_by_day)\n",
    "\n",
    "a_tg_totals += grabcrime(2015, 11, 23, crime_by_day)\n",
    "a_tg_totals += grabcrime(2015, 11, 24, crime_by_day)\n",
    "a_tg_totals += grabcrime(2015, 11, 25, crime_by_day)\n",
    "a_tg_totals += grabcrime(2015, 11, 27, crime_by_day)\n",
    "a_tg_totals += grabcrime(2015, 11, 28, crime_by_day)\n",
    "a_tg_totals += grabcrime(2015, 11, 29, crime_by_day)\n",
    "\n",
    "# Track total crime around NYE\n",
    "a_nye_totals = 0\n",
    "\n",
    "for y in [2011, 2012, 2013, 2014]:\n",
    "    for d in [28, 29, 30, 1, 2, 3]:\n",
    "        if d > 20:\n",
    "            m = 12\n",
    "            yr = y\n",
    "        else:\n",
    "            m = 1\n",
    "            yr = y + 1\n",
    "\n",
    "        # print(\"Adding\", yr, m, d)\n",
    "        a_nye_totals += grabcrime(yr, m, d, crime_by_day)\n",
    "\n",
    "# We don't have data for the days following the final NYE,\n",
    "# so I just grabbed the preceding 6 days\n",
    "a_nye_totals += grabcrime(2015, 12, 25, crime_by_day)\n",
    "a_nye_totals += grabcrime(2015, 12, 26, crime_by_day)\n",
    "a_nye_totals += grabcrime(2015, 12, 27, crime_by_day)\n",
    "a_nye_totals += grabcrime(2015, 12, 28, crime_by_day)\n",
    "a_nye_totals += grabcrime(2015, 12, 29, crime_by_day)\n",
    "a_nye_totals += grabcrime(2015, 12, 30, crime_by_day)\n",
    "\n",
    "# Track total crime around Easter\n",
    "a_easter_totals = 0\n",
    "\n",
    "a_easter_totals += grabcrime(2011, 4, 21, crime_by_day)\n",
    "a_easter_totals += grabcrime(2011, 4, 22, crime_by_day)\n",
    "a_easter_totals += grabcrime(2011, 4, 23, crime_by_day)\n",
    "a_easter_totals += grabcrime(2011, 4, 25, crime_by_day)\n",
    "a_easter_totals += grabcrime(2011, 4, 26, crime_by_day)\n",
    "a_easter_totals += grabcrime(2011, 4, 27, crime_by_day)\n",
    "\n",
    "a_easter_totals += grabcrime(2012, 4, 5, crime_by_day)\n",
    "a_easter_totals += grabcrime(2012, 4, 6, crime_by_day)\n",
    "a_easter_totals += grabcrime(2012, 4, 7, crime_by_day)\n",
    "a_easter_totals += grabcrime(2012, 4, 9, crime_by_day)\n",
    "a_easter_totals += grabcrime(2012, 4, 10, crime_by_day)\n",
    "a_easter_totals += grabcrime(2012, 4, 11, crime_by_day)\n",
    "\n",
    "a_easter_totals += grabcrime(2013, 3, 28, crime_by_day)\n",
    "a_easter_totals += grabcrime(2013, 3, 29, crime_by_day)\n",
    "a_easter_totals += grabcrime(2013, 3, 30, crime_by_day)\n",
    "a_easter_totals += grabcrime(2013, 4, 1, crime_by_day)\n",
    "a_easter_totals += grabcrime(2013, 4, 2, crime_by_day)\n",
    "a_easter_totals += grabcrime(2013, 4, 3, crime_by_day)\n",
    "\n",
    "a_easter_totals += grabcrime(2014, 4, 17, crime_by_day)\n",
    "a_easter_totals += grabcrime(2014, 4, 18, crime_by_day)\n",
    "a_easter_totals += grabcrime(2014, 4, 19, crime_by_day)\n",
    "a_easter_totals += grabcrime(2014, 4, 21, crime_by_day)\n",
    "a_easter_totals += grabcrime(2014, 4, 22, crime_by_day)\n",
    "a_easter_totals += grabcrime(2014, 4, 23, crime_by_day)\n",
    "\n",
    "a_easter_totals += grabcrime(2015, 4, 2, crime_by_day)\n",
    "a_easter_totals += grabcrime(2015, 4, 3, crime_by_day)\n",
    "a_easter_totals += grabcrime(2015, 4, 4, crime_by_day)\n",
    "a_easter_totals += grabcrime(2015, 4, 6, crime_by_day)\n",
    "a_easter_totals += grabcrime(2015, 4, 7, crime_by_day)\n",
    "a_easter_totals += grabcrime(2015, 4, 8, crime_by_day)\n"
   ]
  },
  {
   "cell_type": "code",
   "execution_count": null,
   "metadata": {
    "collapsed": true
   },
   "outputs": [],
   "source": [
    "# Created a dataframe with all of the stats to plot...\n",
    "holidays_list = []\n",
    "holidays_list.append((\"Around XMas\", a_xmas_totals / 30))\n",
    "holidays_list.append((\"Xmas\", avgxmas))\n",
    "holidays_list.append((\"Around Thanksgiving\", a_tg_totals / 30))\n",
    "holidays_list.append((\"Thanksgiving\", avgtg))\n",
    "holidays_list.append((\"Around NY's Eve\", a_nye_totals / 30))\n",
    "holidays_list.append((\"NY's Eve\", avgny))\n",
    "holidays_list.append((\"Around Easter\", a_easter_totals / 30))\n",
    "holidays_list.append((\"Easter\", avge))\n",
    "\n",
    "holidays_df = pd.DataFrame.from_records(\n",
    "    holidays_list, index=[\"Around XMas\", \"XMas\", \"Around Thanksgiving\",\n",
    "                          \"Thanksgiving\", \"Around NY's Eve\", \"NY's Eve\",\n",
    "                          \"Around Easter\", \"Easter\"],\n",
    "    columns=[\"Desc\", \"Crimes per Day\"])\n"
   ]
  },
  {
   "cell_type": "markdown",
   "metadata": {},
   "source": [
    "Now we're ready to chart the holidays vs. their surrounding days to see if the decrease is real or just temperature-driven."
   ]
  },
  {
   "cell_type": "code",
   "execution_count": null,
   "metadata": {
    "collapsed": false
   },
   "outputs": [],
   "source": [
    "holidays_df.index.names = ['']\n",
    "holidays_df.plot(kind=\"bar\", title='Holiday Safety', legend=True,\n",
    "                color=['b', 'b', 'r', 'r', 'g', 'g', 'y', 'y'])\n",
    "\n",
    "# how to visually group holidays by color?"
   ]
  },
  {
   "cell_type": "code",
   "execution_count": null,
   "metadata": {
    "collapsed": false
   },
   "outputs": [],
   "source": [
    "# For some reason, this worked...\n",
    "holidays_df[\"group\"] = [1,1,2,2,3,3,4,4]\n",
    "\n",
    "holidays_df[\"Crimes per Day\"].plot(kind='bar', title='Avg Crimes per Day', legend=False,\n",
    "                                   color=['r', 'r', 'g', 'g', 'b', 'b', 'y', 'y'])"
   ]
  },
  {
   "cell_type": "markdown",
   "metadata": {},
   "source": [
    "# 7) How has the crime rate changed over time? Is the change the same across all crime types?\n",
    "\n",
    "(Jay)"
   ]
  },
  {
   "cell_type": "markdown",
   "metadata": {},
   "source": [
    "So, despite all of the doom and gloom in the news these days, every once in awhile you hear a statistic about crime actually dropping in the last few decades. I'd even heard somewhere that it's as safe now as it was in the \"golden era\" when our parents were kids and people didn't lock their doors. However, I didn't know if it was continuing to drop or if it had reached a plateau. Our data covered the last five calendar years in Chicago, so we had a great opportunity to answer that question. It turns out that the answer is a big \"yes, it is still dropping!\""
   ]
  },
  {
   "cell_type": "code",
   "execution_count": null,
   "metadata": {
    "collapsed": false
   },
   "outputs": [],
   "source": [
    "crime_by_day.plot(figsize=(12,6), title=\"Arrests per Day\")"
   ]
  },
  {
   "cell_type": "markdown",
   "metadata": {},
   "source": [
    "The next question is whether or not it's dropping for all types of crimes or just some of them. Or maybe just the most common crime is dropping and it's giving the aggregate the impression that overall crime is decreasing. In order to dig deeper, I looked at the top 10 most common crime types and charted them individually."
   ]
  },
  {
   "cell_type": "code",
   "execution_count": null,
   "metadata": {
    "collapsed": false
   },
   "outputs": [],
   "source": [
    "# Created a list of top 10 crime types\n",
    "top10df = pd.DataFrame(combined[\"Primary Type\"].value_counts().head(10))\n",
    "top10df = top10df.reset_index()\n",
    "top10list = list(top10df[\"index\"].str.lower())\n",
    "print(\"Top 10 most common crime types: \", top10list)\n",
    "\n",
    "# Created a new column in the combined dataframe for\n",
    "# each type of crime with True or False for each day\n",
    "for c in top10list:\n",
    "    combined[c] = combined['Primary Type'].map(\n",
    "        lambda x: c in str(x).lower())"
   ]
  },
  {
   "cell_type": "code",
   "execution_count": null,
   "metadata": {
    "collapsed": false
   },
   "outputs": [],
   "source": [
    "# Charting the arrests per day was too noisy.\n",
    "# A rolling-average chart makes the downward trend more clear.\n",
    "pd.rolling_mean(combined.groupby([\"Date\"])[top10list].sum(), 100).plot(\n",
    "    figsize=(13, 12),\n",
    "    title=\"Count of Crime By Type (100-day Rolling Average)\")"
   ]
  },
  {
   "cell_type": "markdown",
   "metadata": {},
   "source": [
    "So, it appears that every single type of crime in the top 10 has been dropping in the last five years, with the exception of \"deceptive practice.\" So, what's that?"
   ]
  },
  {
   "cell_type": "code",
   "execution_count": null,
   "metadata": {
    "collapsed": false
   },
   "outputs": [],
   "source": [
    "combined[combined[\"Primary Type\"] == \"DECEPTIVE PRACTICE\"][\n",
    "    \"Description\"].value_counts()"
   ]
  },
  {
   "cell_type": "markdown",
   "metadata": {},
   "source": [
    "There seem to be a few other types of crime that are not following the downward trend as well. It's an interesting open question about what is different about these non-trending crime types. Answering that may shed light on why almost all of the other types are decreasing."
   ]
  },
  {
   "cell_type": "markdown",
   "metadata": {},
   "source": [
    "Unfortunately, it turns out that offenses involving children and sexual assaults are two of the types of crime that don't have a clear downward trend. It could be more due to the relatively low incident count per day in this dataset, which can make any trend hard to see. Further study with nationwide statistics could answer this question definitively."
   ]
  },
  {
   "cell_type": "code",
   "execution_count": null,
   "metadata": {
    "collapsed": false
   },
   "outputs": [],
   "source": [
    "by_day = combined[combined['Primary Type'] ==\n",
    "                  'OFFENSE INVOLVING CHILDREN'][['Date']].groupby(['Date'])\n",
    "by_day_series = pd.Series(by_day.Date.count())\n",
    "by_day_series.plot(figsize=(12, 6),\n",
    "                   title=\"Offenses Involving Children per Day\")"
   ]
  },
  {
   "cell_type": "code",
   "execution_count": null,
   "metadata": {
    "collapsed": false
   },
   "outputs": [],
   "source": [
    "by_day = combined[combined['Primary Type'] == 'CRIM SEXUAL ASSAULT'][\n",
    "    ['Date']].groupby(['Date'])\n",
    "by_day_series = pd.Series(by_day.Date.count())\n",
    "by_day_series.plot(figsize=(12, 6), title=\"Sexual Assault per Day\")\n"
   ]
  },
  {
   "cell_type": "markdown",
   "metadata": {},
   "source": [
    "# 8) Does the day of the month affect crime rate?\n",
    "\n",
    "(Scott)"
   ]
  },
  {
   "cell_type": "markdown",
   "metadata": {},
   "source": [
    "It may seem trivial, but it might be worth exploring how the day of the month affects the crime rate"
   ]
  },
  {
   "cell_type": "code",
   "execution_count": null,
   "metadata": {
    "collapsed": true
   },
   "outputs": [],
   "source": [
    "types_df = pd.DataFrame(index=primary_types)\n",
    "types_df['total'] = types_df.index.map(lambda x: len(combined[combined['Primary Type'] == x]))\n",
    "types_df.sort_values(by='total', ascending=[0], inplace=True)"
   ]
  },
  {
   "cell_type": "code",
   "execution_count": null,
   "metadata": {
    "collapsed": true
   },
   "outputs": [],
   "source": [
    "types_df.drop(types_df[types_df['total'] < 1000].index, axis=0, inplace=True)"
   ]
  },
  {
   "cell_type": "code",
   "execution_count": null,
   "metadata": {
    "collapsed": false
   },
   "outputs": [],
   "source": [
    "weather_df.groupby('day').crimes.sum().plot(kind='bar')\n",
    "plt.ylabel('raw count')"
   ]
  },
  {
   "cell_type": "markdown",
   "metadata": {},
   "source": [
    "Right off the bat, it looks like there's a significant spike in crime on the 1st of the month. The 31st sees a huge drop, but that's expected, given that only about half of the months have a 31st day.\n",
    "\n",
    "The small spike on the 15th, combined with the spike on the 1st, makes me wonder if some crimes are associated with a typical salaried employee's payday."
   ]
  },
  {
   "cell_type": "code",
   "execution_count": null,
   "metadata": {
    "collapsed": true
   },
   "outputs": [],
   "source": [
    "# Pull crime rate for a given primary type and day of the month\n",
    "def inclusivedayrate(ptype, day=1, df=combined):\n",
    "    instances = len(df[(df['Primary Type'] == ptype) & (df['day'] == day)])\n",
    "    days = len(df[(df['Primary Type'] == ptype) & (df['day'] == day)].Date.unique())\n",
    "    return instances/days\n",
    "\n",
    "def exclusivedayrate(ptype, day=1, df=combined):\n",
    "    instances = len(df[(df['Primary Type'] == ptype) & (df['day'] != day)])\n",
    "    days = len(df[(df['Primary Type'] == ptype) & (df['day'] != day)].Date.unique())\n",
    "    return instances/days"
   ]
  },
  {
   "cell_type": "code",
   "execution_count": null,
   "metadata": {
    "collapsed": true
   },
   "outputs": [],
   "source": [
    "types_df['firstrate'] = types_df.index.map(inclusivedayrate)\n",
    "types_df['otherdaysrate'] = types_df.index.map(exclusivedayrate)\n",
    "types_df['firstratefactor'] = (types_df['firstrate'] / types_df['otherdaysrate'] -1)*100"
   ]
  },
  {
   "cell_type": "code",
   "execution_count": null,
   "metadata": {
    "collapsed": false
   },
   "outputs": [],
   "source": [
    "#types_df"
   ]
  },
  {
   "cell_type": "code",
   "execution_count": null,
   "metadata": {
    "collapsed": false
   },
   "outputs": [],
   "source": [
    "types_df[::-1].firstratefactor.plot(kind='barh', title='How individual crime rates change on the 1st of the month', figsize=(10,7))\n",
    "plt.xlabel('% increase or decrease in crime rate on the 1st compared to all other days')"
   ]
  },
  {
   "cell_type": "markdown",
   "metadata": {},
   "source": [
    "### Whoa!\n",
    "\n",
    "There's a huge spike on the 1st of the month for nearly all crimes, but a few crimes in particular (~250% for sex offense).\n",
    "\n",
    "Offense involving children could make sense, if we consider that disputes about child support payments could be more likely on the 1st. Descepting Practice may have something to do with swindling people out of their hard-earned paychecks.\n",
    "\n",
    "Sexual Assault and Sex Offense, however, do not seem to have an obvious connection with the day of the month. It could be that a separate police division handles sex assault and sex offense cases and they have different practices about how cases get filed.\n",
    "\n",
    "I've actually sent an email to the Chicago PD to ask for help understanding the spike, but have not heard back yet. If I get anything back, I'll include what I learn in this analysis."
   ]
  },
  {
   "cell_type": "markdown",
   "metadata": {},
   "source": [
    "# Sandbox\n",
    "## Any other useful/relevant/interesting findings?\n",
    "\n",
    "(Anybody)"
   ]
  },
  {
   "cell_type": "markdown",
   "metadata": {
    "collapsed": true
   },
   "source": [
    "If you watch the news, not only will you not get the impression that crime is dropping around the country, you will also think that homicide is a very common thing.  According to this article:  http://dartcenter.org/content/violence-comparing-reporting-and-reality,\n",
    "the Chicago Tribune crime section in the 1980s featured murder over 25% of the time, even though it made up only 0.2% of the crimes committed.  So if the media crime coverage were actually proportional to the type of crime, what stories would we be seeing on the news every night?"
   ]
  },
  {
   "cell_type": "code",
   "execution_count": null,
   "metadata": {
    "collapsed": false
   },
   "outputs": [],
   "source": [
    "top_crimes = pd.DataFrame(combined[\"Primary Type\"].value_counts() /\n",
    "                          combined[\"Primary Type\"].value_counts().sum())\n",
    "\n",
    "remaining_pct = 1 - top_crimes[top_crimes[\"Primary Type\"] > 0.01].sum()\n",
    "other = pd.DataFrame({\"Primary Type\": remaining_pct.item()}, index=['OTHER'])\n",
    "\n",
    "# Will replace tiny slices with an \"other\" slice\n",
    "top_crimes = top_crimes.append(other)\n",
    "\n",
    "top_crimes_for_pie = top_crimes[top_crimes[\"Primary Type\"] > 0.01][\n",
    "    \"Primary Type\"]\n",
    "\n",
    "top_crimes_for_pie.name = \" \" # Name was showing up on the chart.\n",
    "\n",
    "top_crimes_for_pie.plot(kind=\"pie\", figsize=(7, 7),\n",
    "                        title=\"Primary Types of Crime\")"
   ]
  },
  {
   "cell_type": "markdown",
   "metadata": {},
   "source": [
    "So, theft, battery, and criminal damage would take up fully half of the crime coverage! So, what about at a more detailed level? We all freak out about crimes like \"home invasion\", is it anywhere in the list?"
   ]
  },
  {
   "cell_type": "code",
   "execution_count": null,
   "metadata": {
    "collapsed": false
   },
   "outputs": [],
   "source": [
    "# Found a cool way to group by a combination of fields...\n",
    "groups = combined.groupby(combined[\"Primary Type\"] +\n",
    "                          \" - \" + combined[\"Description\"])\n",
    "\n",
    "top_crimes2 = pd.DataFrame(groups.size(), columns=['Pct'])\n",
    "top_crimes2 = top_crimes2.sort_values(\"Pct\", ascending=False)\n",
    "\n",
    "total = sum(top_crimes2.Pct)\n",
    "\n",
    "top_crimes2 = top_crimes2 / total * 100\n",
    "\n",
    "top_crimes2[top_crimes2.Pct > 0.5].plot(kind=\"barh\",\n",
    "                                        figsize=(6, 6),\n",
    "                                        title=\"Description of Crime\"\n",
    "                                        ).invert_yaxis()\n"
   ]
  },
  {
   "cell_type": "code",
   "execution_count": null,
   "metadata": {
    "collapsed": false
   },
   "outputs": [],
   "source": [
    "# Let's do it again as a pie chart...\n",
    "top_crimes_for_pie = top_crimes2[top_crimes2[\"Pct\"] > 1.5]\n",
    "\n",
    "# if fields add up to nearly 1, pie leaves a gap for missing %\n",
    "top_crimes_for_pie = top_crimes_for_pie / 100\n",
    "\n",
    "missing_slice = pd.DataFrame({'Pct': float(1-top_crimes_for_pie.sum())},\n",
    "                             index=['OTHER'])\n",
    "\n",
    "top_crimes_for_pie = top_crimes_for_pie.append(missing_slice)\n",
    "\n",
    "top_crimes_for_pie[\"Pct\"].plot(kind=\"Pie\", figsize=(6, 6),\n",
    "                               title=\"Top Details of Crime\")"
   ]
  },
  {
   "cell_type": "code",
   "execution_count": null,
   "metadata": {
    "collapsed": false
   },
   "outputs": [],
   "source": [
    "# So where is \"home invasion\"??\n",
    "100 * combined[combined[\"Description\"] ==\n",
    "               \"HOME INVASION\"][\"Description\"].value_counts() \\\n",
    "                / total_crimes\n",
    "\n",
    "# That's not 8.5%, that's 0.085%!  Not too scary!\n"
   ]
  },
  {
   "cell_type": "code",
   "execution_count": null,
   "metadata": {
    "collapsed": true
   },
   "outputs": [],
   "source": []
  }
 ],
 "metadata": {
  "kernelspec": {
   "display_name": "Python 3",
   "language": "python",
   "name": "python3"
  },
  "language_info": {
   "codemirror_mode": {
    "name": "ipython",
    "version": 3
   },
   "file_extension": ".py",
   "mimetype": "text/x-python",
   "name": "python",
   "nbconvert_exporter": "python",
   "pygments_lexer": "ipython3",
   "version": "3.5.1"
  }
 },
 "nbformat": 4,
 "nbformat_minor": 0
}
