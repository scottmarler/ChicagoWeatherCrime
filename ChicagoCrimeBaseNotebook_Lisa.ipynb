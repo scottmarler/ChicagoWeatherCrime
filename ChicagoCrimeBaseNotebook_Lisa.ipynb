{
 "cells": [
  {
   "cell_type": "code",
   "execution_count": 1,
   "metadata": {
    "collapsed": true
   },
   "outputs": [],
   "source": [
    "%matplotlib inline\n",
    "import numpy as np\n",
    "import pandas as pd\n",
    "import matplotlib.pyplot as plt\n",
    "import datetime\n",
    "plt.style.use('ggplot')"
   ]
  },
  {
   "cell_type": "markdown",
   "metadata": {},
   "source": [
    "## Read in data files and parse dates\n",
    "\n",
    "## Google Drive storage location for date-limited data files:\n",
    "https://drive.google.com/open?id=0B_PnWx1pRhmzNWxYNDVjWjBNcnc\n",
    "\n",
    "crime_df source data:\n",
    "https://data.cityofchicago.org/Public-Safety/Crimes-2001-to-present/ijzp-q8t2\n",
    "\n",
    "weather_df source data:\n",
    "www.wunderground.com/history\n",
    "\n",
    "[astronomics] ---not yet a part of this base file; please update with how it's being used\n",
    "http://aa.usno.navy.mil/data/index.php"
   ]
  },
  {
   "cell_type": "code",
   "execution_count": 2,
   "metadata": {
    "collapsed": false
   },
   "outputs": [],
   "source": [
    "# Make sure data files are in the same folder\n",
    "# Add any additional read-in statements here\n",
    "# This takes a while because of the datetime conversion in crime_df (over a million lines)\n",
    "\n",
    "weather_df = pd.read_csv(\"C:/Users/Lisa/Documents/Berkeley/Python/Python/project_2/Chicago Weather Data 2011-2015.txt\")\n",
    "weather_df.rename(columns={'CST':'Date'}, inplace=True)\n",
    "weather_df['Date'] = pd.to_datetime(weather_df['Date']).dt.date\n",
    "\n",
    "crime_df = pd.read_csv(\"C:/Users/Lisa/Documents/Berkeley/Python/Python/project_2/Chicago Crime 2011-2015.csv\")\n",
    "crime_df['Date'] = pd.to_datetime(crime_df['Date']).dt.date"
   ]
  },
  {
   "cell_type": "markdown",
   "metadata": {},
   "source": [
    "## weather_df modifications\n",
    "\n",
    "Since weather_df is already organized as a single day for every line, it is useful to add columns that will make\n",
    "further analysis easier."
   ]
  },
  {
   "cell_type": "code",
   "execution_count": 3,
   "metadata": {
    "collapsed": true
   },
   "outputs": [],
   "source": [
    "# Some columns in weather_df get imported with a leading space\n",
    "# This removes those spaces\n",
    "\n",
    "newcols = []\n",
    "for i in weather_df.columns:\n",
    "    if i[0] == ' ':\n",
    "        i = i[1:]\n",
    "    newcols.append(i)\n",
    "\n",
    "weather_df.columns = newcols"
   ]
  },
  {
   "cell_type": "code",
   "execution_count": 4,
   "metadata": {
    "collapsed": true
   },
   "outputs": [],
   "source": [
    "# Mapping function so that temps can be categorized into buckets\n",
    "def temp_map(temp):\n",
    "    if temp < 0:\n",
    "        return 'below 0'\n",
    "    else:\n",
    "        return str((temp//10)*10) + 's'\n",
    "    \n",
    "# Apply map to new column\n",
    "weather_df['temp bucket'] = weather_df['Max TemperatureF'].map(temp_map)"
   ]
  },
  {
   "cell_type": "code",
   "execution_count": 5,
   "metadata": {
    "collapsed": true
   },
   "outputs": [],
   "source": [
    "# weatherunderground uses a scale of 0 to 9 to represent cloud cover\n",
    "# I'm saying that a \"clear\" day is one with a cloud cover of less than 3\n",
    "weather_df['Clear'] = weather_df['CloudCover'].map(lambda x: int(x) < 3)"
   ]
  },
  {
   "cell_type": "code",
   "execution_count": 6,
   "metadata": {
    "collapsed": true
   },
   "outputs": [],
   "source": [
    "# Mapping function so that temps can be categorized into buckets\n",
    "def temp_map(temp):\n",
    "    if temp < 0:\n",
    "        return 'below 0'\n",
    "    else:\n",
    "        return str((temp//10)*10) + 's'\n",
    "    \n",
    "weather_df['temp bucket'] = weather_df['Max TemperatureF'].map(temp_map)"
   ]
  },
  {
   "cell_type": "code",
   "execution_count": 7,
   "metadata": {
    "collapsed": true
   },
   "outputs": [],
   "source": [
    "# Create a list of each unique weather event type\n",
    "eventlist = list(weather_df['Events'].unique())\n",
    "neweventlist = []\n",
    "for i in eventlist:\n",
    "    i = str(i)\n",
    "    neweventlist.append(i.split('-'))\n",
    "eventlist = []\n",
    "for i in neweventlist:\n",
    "    for j in i:\n",
    "        if j != 'nan':\n",
    "            eventlist.append(j)\n",
    "eventlist = list(set(eventlist))\n",
    "\n",
    "# Create a new column in the weather dataframe for each item in the event list and populate with True or False for each day\n",
    "for e in eventlist:\n",
    "    weather_df[e] = weather_df['Events'].map(lambda x: e in str(x))"
   ]
  },
  {
   "cell_type": "code",
   "execution_count": 8,
   "metadata": {
    "collapsed": true
   },
   "outputs": [],
   "source": [
    "# Crimes per day seems like a pretty good thing to throw in there\n",
    "dailycounts = crime_df.groupby('Date').size()\n",
    "weather_df['crimes'] = weather_df.Date.map(lambda x: dailycounts[x])"
   ]
  },
  {
   "cell_type": "code",
   "execution_count": 9,
   "metadata": {
    "collapsed": true
   },
   "outputs": [],
   "source": [
    "# A 'local' average is useful for picking out days that deviate from their immediately adjacent neighbors\n",
    "# The local deviation is how each day compares to its neighbors\n",
    "def get_local_avg(date,span=7,df=weather_df):\n",
    "    return df[(df['Date'] < date + datetime.timedelta(days=span/2)) & \n",
    "              (df['Date'] > date - datetime.timedelta(days=span/2)) &\n",
    "              (df['Date'] != date)]['crimes'].mean()\n",
    "\n",
    "weather_df['localavg'] = weather_df.Date.map(get_local_avg)\n",
    "weather_df['localdeviation'] = weather_df['crimes']/weather_df['localavg'] - 1"
   ]
  },
  {
   "cell_type": "code",
   "execution_count": 10,
   "metadata": {
    "collapsed": true
   },
   "outputs": [],
   "source": [
    "# It's useful to be able to reference the day of the month readily\n",
    "weather_df['day'] = weather_df.Date.map(lambda x: x.day)"
   ]
  },
  {
   "cell_type": "code",
   "execution_count": 11,
   "metadata": {
    "collapsed": true
   },
   "outputs": [],
   "source": [
    "# It's also useful to know which day of the week it is\n",
    "weather_df['dow'] = weather_df.Date.map(lambda x: x.weekday())"
   ]
  },
  {
   "cell_type": "markdown",
   "metadata": {},
   "source": [
    "## Lunar Data\n",
    "\n",
    "# SCOTT - add the moonlight, seasons, moonphase, and astro cells"
   ]
  },
  {
   "cell_type": "code",
   "execution_count": 12,
   "metadata": {
    "collapsed": false
   },
   "outputs": [],
   "source": [
    "moonlight = pd.read_csv(\"moonlight.txt\", delimiter = \"\\t\")\n",
    "moonlight = pd.melt(moonlight, id_vars = [\"Year\", \"Day\"], var_name = \"Month\", value_name = \"LightPercent\")\n",
    "moonlight.dropna(how = \"any\", inplace = True)\n",
    "moonlight[\"Date\"] = pd.to_datetime(moonlight[\"Year\"].map(str) + moonlight[\"Month\"] + moonlight[\"Day\"].map(str), format=\"%Y%b%d\").dt.date\n",
    "moonlight = moonlight[[\"LightPercent\", \"Date\"]]"
   ]
  },
  {
   "cell_type": "code",
   "execution_count": 13,
   "metadata": {
    "collapsed": true
   },
   "outputs": [],
   "source": [
    "seasons = pd.read_csv(\"seasons.txt\", delimiter = \"\\t\")\n",
    "seasons[\"Date\"] = pd.to_datetime(seasons[\"Year\"]*10000 + seasons[\"Month\"]*100 + seasons[\"Day\"], format=\"%Y%m%d\").dt.date\n",
    "seasons = seasons[[\"Event\", \"Date\"]]"
   ]
  },
  {
   "cell_type": "code",
   "execution_count": 14,
   "metadata": {
    "collapsed": true
   },
   "outputs": [],
   "source": [
    "moonphase = pd.read_csv(\"moonphase.txt\", delimiter = \"\\t\", names = [\"MoonPhase\", \"Date\"], skiprows = 1)\n",
    "moonphase['Date'] = pd.to_datetime(moonphase['Date']).dt.date"
   ]
  },
  {
   "cell_type": "code",
   "execution_count": 15,
   "metadata": {
    "collapsed": false
   },
   "outputs": [],
   "source": [
    "astro = pd.merge(moonlight, moonphase, on = \"Date\", how = \"left\")\n",
    "astro = pd.merge(astro, seasons, on = \"Date\", how = \"left\")\n",
    "astro.sort_values(\"Date\")\n",
    "\n",
    "astro[\"Season\"] = astro[\"Event\"][astro[\"Event\"].isin(['spring', 'summer', 'fall', 'winter'])]\n",
    "# fill in NaNs with current season\n",
    "astro[\"Season\"].fillna(method=\"ffill\", inplace = True)\n",
    "# leaves rows prior to first spring NaN. These should be winter.\n",
    "astro[\"Season\"].fillna(value=\"winter\", inplace = True)\n",
    "\n",
    "astro[\"MoonPhase\"].fillna(\"Other\", inplace = True)"
   ]
  },
  {
   "cell_type": "code",
   "execution_count": 40,
   "metadata": {
    "collapsed": false
   },
   "outputs": [
    {
     "data": {
      "text/plain": [
       "Index(['Date', 'Max TemperatureF', 'Mean TemperatureF', 'Min TemperatureF',\n",
       "       'Max Dew PointF', 'MeanDew PointF', 'Min DewpointF', 'Max Humidity',\n",
       "       'Mean Humidity', 'Min Humidity', 'Max Sea Level PressureIn',\n",
       "       'Mean Sea Level PressureIn', 'Min Sea Level PressureIn',\n",
       "       'Max VisibilityMiles', 'Mean VisibilityMiles', 'Min VisibilityMiles',\n",
       "       'Max Wind SpeedMPH', 'Mean Wind SpeedMPH', 'Max Gust SpeedMPH',\n",
       "       'PrecipitationIn', 'CloudCover', 'Events', 'WindDirDegrees',\n",
       "       'temp bucket', 'Clear', 'Thunderstorm', 'Snow', 'Hail', 'Fog', 'Rain',\n",
       "       'crimes', 'localavg', 'localdeviation', 'day', 'dow'],\n",
       "      dtype='object')"
      ]
     },
     "execution_count": 40,
     "metadata": {},
     "output_type": "execute_result"
    }
   ],
   "source": [
    "weather_df.columns"
   ]
  },
  {
   "cell_type": "markdown",
   "metadata": {},
   "source": [
    "## Merge DataFrames\n",
    "# SCOTT - add the merge with astro. I use the MaxTempBucket later - let me know if it interferes with the way you created the temp buckets."
   ]
  },
  {
   "cell_type": "code",
   "execution_count": 16,
   "metadata": {
    "collapsed": true
   },
   "outputs": [],
   "source": [
    "# Left-join crime and weather dataframes (crime on the left)\n",
    "combined = pd.merge(crime_df, weather_df, how='left', on='Date')"
   ]
  },
  {
   "cell_type": "code",
   "execution_count": 17,
   "metadata": {
    "collapsed": true
   },
   "outputs": [],
   "source": [
    "# Left-join combined and astro dataframes (combined on the left)\n",
    "combined = pd.merge(combined, astro, how='left', on='Date')\n",
    "combined[\"MaxTempBucket\"] = combined[\"Max TemperatureF\"].map(lambda x: round(x, -1))\n"
   ]
  },
  {
   "cell_type": "code",
   "execution_count": 159,
   "metadata": {
    "collapsed": false
   },
   "outputs": [
    {
     "data": {
      "text/plain": [
       "Int64Index([80, 60, 70, 40, 50, 90, 30, 20, 100, 10, 0], dtype='int64')"
      ]
     },
     "execution_count": 159,
     "metadata": {},
     "output_type": "execute_result"
    }
   ],
   "source": [
    "combined[\"MaxTempBucket\"].value_counts().index"
   ]
  },
  {
   "cell_type": "markdown",
   "metadata": {},
   "source": [
    "## 0) Descriptive Explorations"
   ]
  },
  {
   "cell_type": "code",
   "execution_count": null,
   "metadata": {
    "collapsed": true
   },
   "outputs": [],
   "source": [
    "plt.pie(combined[\"Primary Type\"].value_counts(), \\\n",
    "        labels = combined[\"Primary Type\"].value_counts().index)\n",
    "figsize=(8,8)"
   ]
  },
  {
   "cell_type": "code",
   "execution_count": null,
   "metadata": {
    "collapsed": true
   },
   "outputs": [],
   "source": [
    "weather_df[\"TempBucket\"].value_counts().plot(kind=\"pie\", label=\"\")"
   ]
  },
  {
   "cell_type": "markdown",
   "metadata": {},
   "source": [
    "# 1) Is crime more likely in warm or cold weather?"
   ]
  },
  {
   "cell_type": "code",
   "execution_count": null,
   "metadata": {
    "collapsed": true
   },
   "outputs": [],
   "source": [
    "# Scott"
   ]
  },
  {
   "cell_type": "markdown",
   "metadata": {},
   "source": [
    "# 2) Is crime more likely during pleasant or storm weather?"
   ]
  },
  {
   "cell_type": "code",
   "execution_count": null,
   "metadata": {
    "collapsed": true
   },
   "outputs": [],
   "source": [
    "# Scott"
   ]
  },
  {
   "cell_type": "markdown",
   "metadata": {},
   "source": [
    "# 3) Are certain phases of the moon related to higher crime rates?"
   ]
  },
  {
   "cell_type": "code",
   "execution_count": 39,
   "metadata": {
    "collapsed": false
   },
   "outputs": [
    {
     "data": {
      "text/plain": [
       "0.0014894556877116634"
      ]
     },
     "execution_count": 39,
     "metadata": {},
     "output_type": "execute_result"
    }
   ],
   "source": [
    "#murder % of crimes by year\n",
    "len(combined[combined[\"Primary Type\"] == \"HOMICIDE\"])/len(combined)"
   ]
  },
  {
   "cell_type": "code",
   "execution_count": 31,
   "metadata": {
    "collapsed": false
   },
   "outputs": [
    {
     "data": {
      "text/plain": [
       "array(['DECEPTIVE PRACTICE', 'CRIMINAL DAMAGE', 'THEFT', 'BATTERY',\n",
       "       'OTHER OFFENSE', 'MOTOR VEHICLE THEFT', 'ROBBERY',\n",
       "       'WEAPONS VIOLATION', 'CRIM SEXUAL ASSAULT', 'ASSAULT', 'BURGLARY',\n",
       "       'NARCOTICS', 'CRIMINAL TRESPASS', 'OFFENSE INVOLVING CHILDREN',\n",
       "       'INTERFERENCE WITH PUBLIC OFFICER', 'SEX OFFENSE', 'ARSON',\n",
       "       'PUBLIC PEACE VIOLATION', 'PROSTITUTION', 'LIQUOR LAW VIOLATION',\n",
       "       'HOMICIDE', 'INTIMIDATION', 'KIDNAPPING', 'OBSCENITY', 'STALKING',\n",
       "       'PUBLIC INDECENCY', 'NON-CRIMINAL', 'NON - CRIMINAL',\n",
       "       'CONCEALED CARRY LICENSE VIOLATION', 'GAMBLING',\n",
       "       'HUMAN TRAFFICKING', 'OTHER NARCOTIC VIOLATION',\n",
       "       'NON-CRIMINAL (SUBJECT SPECIFIED)'], dtype=object)"
      ]
     },
     "execution_count": 31,
     "metadata": {},
     "output_type": "execute_result"
    }
   ],
   "source": [
    "combined[\"Primary Type\"].unique()"
   ]
  },
  {
   "cell_type": "markdown",
   "metadata": {},
   "source": [
    "# 4) Which criminal activities become more or less likely during specific weather events?"
   ]
  },
  {
   "cell_type": "code",
   "execution_count": 77,
   "metadata": {
    "collapsed": false
   },
   "outputs": [
    {
     "data": {
      "text/html": [
       "<div>\n",
       "<table border=\"1\" class=\"dataframe\">\n",
       "  <thead>\n",
       "    <tr style=\"text-align: right;\">\n",
       "      <th></th>\n",
       "      <th>Date</th>\n",
       "      <th>Block</th>\n",
       "      <th>Primary Type</th>\n",
       "      <th>Description</th>\n",
       "      <th>Location Description</th>\n",
       "      <th>Arrest</th>\n",
       "      <th>Domestic</th>\n",
       "      <th>District</th>\n",
       "      <th>FBI Code</th>\n",
       "      <th>Max TemperatureF</th>\n",
       "      <th>...</th>\n",
       "      <th>Rain</th>\n",
       "      <th>crimes</th>\n",
       "      <th>localavg</th>\n",
       "      <th>localdeviation</th>\n",
       "      <th>day</th>\n",
       "      <th>dow</th>\n",
       "      <th>LightPercent</th>\n",
       "      <th>MoonPhase</th>\n",
       "      <th>Event</th>\n",
       "      <th>Season</th>\n",
       "    </tr>\n",
       "  </thead>\n",
       "  <tbody>\n",
       "    <tr>\n",
       "      <th>0</th>\n",
       "      <td>2015-12-31</td>\n",
       "      <td>025XX W 63RD ST</td>\n",
       "      <td>DECEPTIVE PRACTICE</td>\n",
       "      <td>THEFT BY LESSEE,MOTOR VEH</td>\n",
       "      <td>OTHER</td>\n",
       "      <td>False</td>\n",
       "      <td>False</td>\n",
       "      <td>8</td>\n",
       "      <td>11</td>\n",
       "      <td>28</td>\n",
       "      <td>...</td>\n",
       "      <td>False</td>\n",
       "      <td>593</td>\n",
       "      <td>597.5</td>\n",
       "      <td>-0.007531</td>\n",
       "      <td>31</td>\n",
       "      <td>3</td>\n",
       "      <td>0.68</td>\n",
       "      <td>NaN</td>\n",
       "      <td>NaN</td>\n",
       "      <td>winter</td>\n",
       "    </tr>\n",
       "    <tr>\n",
       "      <th>1</th>\n",
       "      <td>2015-12-31</td>\n",
       "      <td>075XX S EMERALD AVE</td>\n",
       "      <td>CRIMINAL DAMAGE</td>\n",
       "      <td>TO VEHICLE</td>\n",
       "      <td>STREET</td>\n",
       "      <td>False</td>\n",
       "      <td>False</td>\n",
       "      <td>6</td>\n",
       "      <td>14</td>\n",
       "      <td>28</td>\n",
       "      <td>...</td>\n",
       "      <td>False</td>\n",
       "      <td>593</td>\n",
       "      <td>597.5</td>\n",
       "      <td>-0.007531</td>\n",
       "      <td>31</td>\n",
       "      <td>3</td>\n",
       "      <td>0.68</td>\n",
       "      <td>NaN</td>\n",
       "      <td>NaN</td>\n",
       "      <td>winter</td>\n",
       "    </tr>\n",
       "    <tr>\n",
       "      <th>2</th>\n",
       "      <td>2015-12-31</td>\n",
       "      <td>015XX N KEDZIE AVE</td>\n",
       "      <td>THEFT</td>\n",
       "      <td>FROM BUILDING</td>\n",
       "      <td>RESIDENCE PORCH/HALLWAY</td>\n",
       "      <td>False</td>\n",
       "      <td>False</td>\n",
       "      <td>14</td>\n",
       "      <td>06</td>\n",
       "      <td>28</td>\n",
       "      <td>...</td>\n",
       "      <td>False</td>\n",
       "      <td>593</td>\n",
       "      <td>597.5</td>\n",
       "      <td>-0.007531</td>\n",
       "      <td>31</td>\n",
       "      <td>3</td>\n",
       "      <td>0.68</td>\n",
       "      <td>NaN</td>\n",
       "      <td>NaN</td>\n",
       "      <td>winter</td>\n",
       "    </tr>\n",
       "    <tr>\n",
       "      <th>3</th>\n",
       "      <td>2015-12-31</td>\n",
       "      <td>079XX S STONY ISLAND AVE</td>\n",
       "      <td>BATTERY</td>\n",
       "      <td>AGGRAVATED: OTHER DANG WEAPON</td>\n",
       "      <td>STREET</td>\n",
       "      <td>False</td>\n",
       "      <td>False</td>\n",
       "      <td>4</td>\n",
       "      <td>04B</td>\n",
       "      <td>28</td>\n",
       "      <td>...</td>\n",
       "      <td>False</td>\n",
       "      <td>593</td>\n",
       "      <td>597.5</td>\n",
       "      <td>-0.007531</td>\n",
       "      <td>31</td>\n",
       "      <td>3</td>\n",
       "      <td>0.68</td>\n",
       "      <td>NaN</td>\n",
       "      <td>NaN</td>\n",
       "      <td>winter</td>\n",
       "    </tr>\n",
       "    <tr>\n",
       "      <th>4</th>\n",
       "      <td>2015-12-31</td>\n",
       "      <td>037XX N CLARK ST</td>\n",
       "      <td>BATTERY</td>\n",
       "      <td>SIMPLE</td>\n",
       "      <td>SIDEWALK</td>\n",
       "      <td>True</td>\n",
       "      <td>False</td>\n",
       "      <td>19</td>\n",
       "      <td>08B</td>\n",
       "      <td>28</td>\n",
       "      <td>...</td>\n",
       "      <td>False</td>\n",
       "      <td>593</td>\n",
       "      <td>597.5</td>\n",
       "      <td>-0.007531</td>\n",
       "      <td>31</td>\n",
       "      <td>3</td>\n",
       "      <td>0.68</td>\n",
       "      <td>NaN</td>\n",
       "      <td>NaN</td>\n",
       "      <td>winter</td>\n",
       "    </tr>\n",
       "  </tbody>\n",
       "</table>\n",
       "<p>5 rows × 47 columns</p>\n",
       "</div>"
      ],
      "text/plain": [
       "         Date                     Block        Primary Type  \\\n",
       "0  2015-12-31           025XX W 63RD ST  DECEPTIVE PRACTICE   \n",
       "1  2015-12-31       075XX S EMERALD AVE     CRIMINAL DAMAGE   \n",
       "2  2015-12-31        015XX N KEDZIE AVE               THEFT   \n",
       "3  2015-12-31  079XX S STONY ISLAND AVE             BATTERY   \n",
       "4  2015-12-31          037XX N CLARK ST             BATTERY   \n",
       "\n",
       "                     Description     Location Description Arrest Domestic  \\\n",
       "0      THEFT BY LESSEE,MOTOR VEH                    OTHER  False    False   \n",
       "1                     TO VEHICLE                   STREET  False    False   \n",
       "2                  FROM BUILDING  RESIDENCE PORCH/HALLWAY  False    False   \n",
       "3  AGGRAVATED: OTHER DANG WEAPON                   STREET  False    False   \n",
       "4                         SIMPLE                 SIDEWALK   True    False   \n",
       "\n",
       "   District FBI Code  Max TemperatureF   ...     Rain  crimes  localavg  \\\n",
       "0         8       11                28   ...    False     593     597.5   \n",
       "1         6       14                28   ...    False     593     597.5   \n",
       "2        14       06                28   ...    False     593     597.5   \n",
       "3         4      04B                28   ...    False     593     597.5   \n",
       "4        19      08B                28   ...    False     593     597.5   \n",
       "\n",
       "   localdeviation  day  dow  LightPercent  MoonPhase  Event  Season  \n",
       "0       -0.007531   31    3          0.68        NaN    NaN  winter  \n",
       "1       -0.007531   31    3          0.68        NaN    NaN  winter  \n",
       "2       -0.007531   31    3          0.68        NaN    NaN  winter  \n",
       "3       -0.007531   31    3          0.68        NaN    NaN  winter  \n",
       "4       -0.007531   31    3          0.68        NaN    NaN  winter  \n",
       "\n",
       "[5 rows x 47 columns]"
      ]
     },
     "execution_count": 77,
     "metadata": {},
     "output_type": "execute_result"
    }
   ],
   "source": [
    "combined.head()"
   ]
  },
  {
   "cell_type": "markdown",
   "metadata": {},
   "source": [
    "# 5) Is crime influenced more by weather or by season?"
   ]
  },
  {
   "cell_type": "code",
   "execution_count": 162,
   "metadata": {
    "collapsed": false
   },
   "outputs": [
    {
     "data": {
      "text/plain": [
       "summer    424664\n",
       "spring    393390\n",
       "fall      375240\n",
       "winter    334781\n",
       "Name: Season, dtype: int64"
      ]
     },
     "execution_count": 162,
     "metadata": {},
     "output_type": "execute_result"
    }
   ],
   "source": [
    "combined.groupby(\"Season\")[\"Date\"].nunique()\n",
    "combined[\"Season\"].value_counts()"
   ]
  },
  {
   "cell_type": "markdown",
   "metadata": {},
   "source": [
    "# SCOTT - the next 3 are used to create the violin plots"
   ]
  },
  {
   "cell_type": "code",
   "execution_count": null,
   "metadata": {
    "collapsed": true
   },
   "outputs": [],
   "source": [
    "# help on violin labeling from http://matplotlib.org/examples/statistics/violinplot_demo.html\n",
    "def violin_plot(bucket, ylabel = None, title = None):\n",
    "    labels = combined[bucket].unique()\n",
    "    data = combined.groupby(bucket)[\"Date\"].value_counts()\n",
    "    ax = plt.figure().add_subplot(111)\n",
    "\n",
    "    plt.violinplot([data[col] for col in labels], range(len(labels)), showmeans= True)\n",
    "    ax.set_xticks(range(len(labels)))\n",
    "    ax.set_xticklabels(labels, rotation=90)\n",
    "    if ylabel:\n",
    "        ax.set_ylabel(ylabel)\n",
    "    if title:\n",
    "        ax.set_title(title)"
   ]
  },
  {
   "cell_type": "code",
   "execution_count": null,
   "metadata": {
    "collapsed": true
   },
   "outputs": [],
   "source": [
    "# season violin plot\n",
    "violin_plot(\"Season\", \"Daily Crime Count\", \"Seasonal Crime Rate\")"
   ]
  },
  {
   "cell_type": "code",
   "execution_count": null,
   "metadata": {
    "collapsed": true
   },
   "outputs": [],
   "source": [
    "# moonphase violin plot\n",
    "violin_plot(\"MoonPhase\", \"Daily Crime Count\", \"Moon Phase Crime Rate\")"
   ]
  },
  {
   "cell_type": "code",
   "execution_count": null,
   "metadata": {
    "collapsed": true
   },
   "outputs": [],
   "source": []
  },
  {
   "cell_type": "code",
   "execution_count": 294,
   "metadata": {
    "collapsed": false
   },
   "outputs": [
    {
     "data": {
      "text/plain": [
       "<matplotlib.text.Text at 0x1e09035c6a0>"
      ]
     },
     "execution_count": 294,
     "metadata": {},
     "output_type": "execute_result"
    },
    {
     "data": {
      "image/png": "[encoded data removed]",
      "text/plain": [
       "<matplotlib.figure.Figure at 0x1e0902cd208>"
      ]
     },
     "metadata": {},
     "output_type": "display_data"
    }
   ],
   "source": [
    "seasons = [\"fall\", \"winter\", \"spring\", \"summer\"]\n",
    "data = combined.groupby(\"Season\")[\"Date\"].value_counts()\n",
    "ax = plt.figure().add_subplot(111)\n",
    "\n",
    "plt.violinplot([data[s] for s in seasons], range(len(seasons)), showmeans= True)\n",
    "ax.set_xticks(range(len(seasons)))\n",
    "ax.set_xticklabels(seasons)\n",
    "ax.set_title(\"Seasonal Crime Rate\")"
   ]
  },
  {
   "cell_type": "code",
   "execution_count": 302,
   "metadata": {
    "collapsed": false
   },
   "outputs": [
    {
     "data": {
      "text/plain": [
       "<matplotlib.text.Text at 0x1e091792240>"
      ]
     },
     "execution_count": 302,
     "metadata": {},
     "output_type": "execute_result"
    },
    {
     "data": {
      "image/png": "[encoded data removed]",
      "text/plain": [
       "<matplotlib.figure.Figure at 0x1e09065cb38>"
      ]
     },
     "metadata": {},
     "output_type": "display_data"
    }
   ],
   "source": [
    "# help on violin labeling from http://matplotlib.org/examples/statistics/violinplot_demo.html\n",
    "phases = combined.MoonPhase.unique()\n",
    "data = combined.groupby(\"MoonPhase\")[\"Date\"].value_counts()\n",
    "ax = plt.figure().add_subplot(111)\n",
    "\n",
    "plt.violinplot([data[s] for s in phases], range(len(phases)), showmeans= True)\n",
    "ax.set_xticks(range(len(phases)))\n",
    "ax.set_xticklabels(phases, rotation=90)\n",
    "ax.set_ylabel(\"Daily Crime Count\")\n",
    "ax.set_title(\"Moon Phase Crime Rate\")"
   ]
  },
  {
   "cell_type": "markdown",
   "metadata": {},
   "source": [
    "# SCOTT - the next 5 I used for analysis but I think only one of the graphs made it into the final report. Up to you how much is transfered to the final notebook."
   ]
  },
  {
   "cell_type": "code",
   "execution_count": 266,
   "metadata": {
    "collapsed": true
   },
   "outputs": [],
   "source": [
    "# legend help from http://stackoverflow.com/questions/23556153/how-to-put-legend-outside-the-plot-with-pandas\n",
    "def season_ave_crime(bucket, grp_bucket, bucket_label = None, grp_bucket_label = None):\n",
    "    crimes = combined.groupby(grp_bucket)[bucket].value_counts()\n",
    "    days = combined.groupby([grp_bucket, bucket])[\"Date\"].nunique()\n",
    "    season_crime_df = crimes / days\n",
    "\n",
    "    for s in [\"fall\", \"winter\", \"spring\", \"summer\"]:\n",
    "        plot_fig= season_crime_df[s].plot(legend=True, label=s)\n",
    "\n",
    "    plot_fig.set_xlabel(bucket_label)\n",
    "    plot_fig.set_ylabel(\"Average Crime Rate\")\n",
    "    plot_fig.set_title(grp_bucket_label)\n",
    "    \n",
    "    plt.legend(loc='center left', bbox_to_anchor=(1.0, 0.5))\n",
    "    \n",
    "def ungrp_ave_crime(bucket, bucket_label = None, title=None):\n",
    "    crimes = combined[bucket].value_counts()\n",
    "    days = combined.groupby(bucket)[\"Date\"].nunique()\n",
    "    season_crime_df = crimes / days\n",
    "    plot_fig = season_crime_df.plot()\n",
    "\n",
    "    plot_fig.set_xlabel(bucket_label)\n",
    "    plot_fig.set_ylabel(\"Average Crime Rate\")\n",
    "    plot_fig.set_title(title)"
   ]
  },
  {
   "cell_type": "code",
   "execution_count": 303,
   "metadata": {
    "collapsed": false
   },
   "outputs": [
    {
     "data": {
      "image/png": "[encoded data removed]",
      "text/plain": [
       "<matplotlib.figure.Figure at 0x1e09046b978>"
      ]
     },
     "metadata": {},
     "output_type": "display_data"
    }
   ],
   "source": [
    "season_ave_crime(\"day\", \"Season\", \"Day Of Month\", \"Seasonal Average Crime Rate\")"
   ]
  },
  {
   "cell_type": "code",
   "execution_count": 304,
   "metadata": {
    "collapsed": false,
    "scrolled": false
   },
   "outputs": [
    {
     "data": {
      "image/png": "[encoded data removed]",
      "text/plain": [
       "<matplotlib.figure.Figure at 0x1e0917fd898>"
      ]
     },
     "metadata": {},
     "output_type": "display_data"
    }
   ],
   "source": [
    "season_ave_crime(\"MaxTempBucket\", \"Season\", \"Maximum Temperature Bucket\", \"Seasonal Average Crime Rate\")"
   ]
  },
  {
   "cell_type": "code",
   "execution_count": 305,
   "metadata": {
    "collapsed": false
   },
   "outputs": [
    {
     "data": {
      "image/png": "[encoded data removed]",
      "text/plain": [
       "<matplotlib.figure.Figure at 0x1e091776b70>"
      ]
     },
     "metadata": {},
     "output_type": "display_data"
    }
   ],
   "source": [
    "ungrp_ave_crime(\"LightPercent\", \"Moon Illumination Percent\", title=\"Crime by Moonlight\")"
   ]
  },
  {
   "cell_type": "code",
   "execution_count": 306,
   "metadata": {
    "collapsed": false
   },
   "outputs": [
    {
     "data": {
      "image/png": "[encoded data removed]",
      "text/plain": [
       "<matplotlib.figure.Figure at 0x1e091966a20>"
      ]
     },
     "metadata": {},
     "output_type": "display_data"
    }
   ],
   "source": [
    "crimes = combined[\"MoonPhase\"].value_counts()\n",
    "days = combined.groupby(\"MoonPhase\")[\"Date\"].nunique()\n",
    "crime_df = crimes / days\n",
    "plot_fig = crime_df.plot(kind=\"bar\", title=\"\")"
   ]
  },
  {
   "cell_type": "code",
   "execution_count": 311,
   "metadata": {
    "collapsed": false,
    "scrolled": true
   },
   "outputs": [
    {
     "data": {
      "text/plain": [
       "count    1826.000000\n",
       "mean      836.842826\n",
       "std       139.200452\n",
       "min       319.000000\n",
       "25%       743.250000\n",
       "50%       833.000000\n",
       "75%       931.750000\n",
       "max      1477.000000\n",
       "dtype: float64"
      ]
     },
     "execution_count": 311,
     "metadata": {},
     "output_type": "execute_result"
    }
   ],
   "source": [
    "combined.groupby(\"MoonPhase\")[\"Date\"].value_counts().describe()"
   ]
  },
  {
   "cell_type": "code",
   "execution_count": 173,
   "metadata": {
    "collapsed": false
   },
   "outputs": [
    {
     "data": {
      "text/html": [
       "<div>\n",
       "<table border=\"1\" class=\"dataframe\">\n",
       "  <thead>\n",
       "    <tr style=\"text-align: right;\">\n",
       "      <th>Season</th>\n",
       "      <th>fall</th>\n",
       "      <th>spring</th>\n",
       "      <th>summer</th>\n",
       "      <th>winter</th>\n",
       "    </tr>\n",
       "    <tr>\n",
       "      <th>MaxTempBucket</th>\n",
       "      <th></th>\n",
       "      <th></th>\n",
       "      <th></th>\n",
       "      <th></th>\n",
       "    </tr>\n",
       "  </thead>\n",
       "  <tbody>\n",
       "    <tr>\n",
       "      <th>0</th>\n",
       "      <td>NaN</td>\n",
       "      <td>NaN</td>\n",
       "      <td>NaN</td>\n",
       "      <td>NaN</td>\n",
       "    </tr>\n",
       "    <tr>\n",
       "      <th>10</th>\n",
       "      <td>NaN</td>\n",
       "      <td>NaN</td>\n",
       "      <td>NaN</td>\n",
       "      <td>NaN</td>\n",
       "    </tr>\n",
       "    <tr>\n",
       "      <th>20</th>\n",
       "      <td>NaN</td>\n",
       "      <td>NaN</td>\n",
       "      <td>NaN</td>\n",
       "      <td>NaN</td>\n",
       "    </tr>\n",
       "    <tr>\n",
       "      <th>30</th>\n",
       "      <td>NaN</td>\n",
       "      <td>NaN</td>\n",
       "      <td>NaN</td>\n",
       "      <td>NaN</td>\n",
       "    </tr>\n",
       "    <tr>\n",
       "      <th>40</th>\n",
       "      <td>NaN</td>\n",
       "      <td>NaN</td>\n",
       "      <td>NaN</td>\n",
       "      <td>NaN</td>\n",
       "    </tr>\n",
       "  </tbody>\n",
       "</table>\n",
       "</div>"
      ],
      "text/plain": [
       "Season        fall spring summer winter\n",
       "MaxTempBucket                          \n",
       "0              NaN    NaN    NaN    NaN\n",
       "10             NaN    NaN    NaN    NaN\n",
       "20             NaN    NaN    NaN    NaN\n",
       "30             NaN    NaN    NaN    NaN\n",
       "40             NaN    NaN    NaN    NaN"
      ]
     },
     "execution_count": 173,
     "metadata": {},
     "output_type": "execute_result"
    }
   ],
   "source": [
    "season, temp = days.index.levels\n",
    "seasonal_crime = pd.DataFrame(columns = days.index.levels)\n",
    "for s in season:\n",
    "    for t in temp:\n",
    "        seasonal_crime[] = "
   ]
  },
  {
   "cell_type": "markdown",
   "metadata": {},
   "source": [
    "# 6) Is crime less likely to occur on holidays?"
   ]
  },
  {
   "cell_type": "code",
   "execution_count": 155,
   "metadata": {
    "collapsed": true
   },
   "outputs": [],
   "source": [
    "# Jay\n",
    "? plt.plot()"
   ]
  },
  {
   "cell_type": "markdown",
   "metadata": {},
   "source": [
    "# 7) How has the crime rate changed over time? Is the change the same across all crime types?"
   ]
  },
  {
   "cell_type": "code",
   "execution_count": null,
   "metadata": {
    "collapsed": true
   },
   "outputs": [],
   "source": [
    "# Jay"
   ]
  },
  {
   "cell_type": "markdown",
   "metadata": {},
   "source": [
    "# 8) Does the day of the month effect crime rate?"
   ]
  },
  {
   "cell_type": "code",
   "execution_count": null,
   "metadata": {
    "collapsed": true
   },
   "outputs": [],
   "source": [
    "# Scott"
   ]
  },
  {
   "cell_type": "markdown",
   "metadata": {},
   "source": [
    "# Sandbox\n",
    "## Any other useful/relevant/interesting findings?"
   ]
  },
  {
   "cell_type": "code",
   "execution_count": null,
   "metadata": {
    "collapsed": true
   },
   "outputs": [],
   "source": [
    "# Everybody!"
   ]
  }
 ],
 "metadata": {
  "kernelspec": {
   "display_name": "Python 3",
   "language": "python",
   "name": "python3"
  },
  "language_info": {
   "codemirror_mode": {
    "name": "ipython",
    "version": 3
   },
   "file_extension": ".py",
   "mimetype": "text/x-python",
   "name": "python",
   "nbconvert_exporter": "python",
   "pygments_lexer": "ipython3",
   "version": "3.5.1"
  }
 },
 "nbformat": 4,
 "nbformat_minor": 0
}
